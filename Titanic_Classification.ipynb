{
  "nbformat": 4,
  "nbformat_minor": 0,
  "metadata": {
    "colab": {
      "provenance": [],
      "include_colab_link": true
    },
    "kernelspec": {
      "name": "python3",
      "display_name": "Python 3"
    },
    "language_info": {
      "name": "python"
    }
  },
  "cells": [
    {
      "cell_type": "markdown",
      "metadata": {
        "id": "view-in-github",
        "colab_type": "text"
      },
      "source": [
        "<a href=\"https://colab.research.google.com/github/Suraj5188/ML_Project_Titanic_Classification/blob/main/Titanic_Classification.ipynb\" target=\"_parent\"><img src=\"https://colab.research.google.com/assets/colab-badge.svg\" alt=\"Open In Colab\"/></a>"
      ]
    },
    {
      "cell_type": "markdown",
      "source": [
        "**Problem Understanding**\n",
        "\n",
        "The Titanic competition is a classification problem where we are tasked with predicting whether or not a passenger survived the ship's sinking.\n",
        "\n",
        "Goal: place in top the 10% of rolling leaderboard."
      ],
      "metadata": {
        "id": "kN_sy2bLGUJv"
      }
    },
    {
      "cell_type": "code",
      "execution_count": null,
      "metadata": {
        "id": "UdGhfNp6FlHo"
      },
      "outputs": [],
      "source": [
        "# initial imports\n",
        "import numpy as np\n",
        "import pandas as pd\n",
        "import seaborn as sns\n",
        "import matplotlib.pyplot as plt\n",
        "import warnings\n",
        "warnings.filterwarnings('ignore')\n",
        "\n",
        "# set the random seed state for reproducibility\n",
        "random_state = 42"
      ]
    },
    {
      "cell_type": "code",
      "source": [
        "# import train and test set\n",
        "train_df = pd.read_csv(\"/content/drive/MyDrive/train.csv\")\n",
        "test_df = pd.read_csv(\"/content/drive/MyDrive/test.csv\")"
      ],
      "metadata": {
        "id": "EuyRMxx_Gyqr"
      },
      "execution_count": null,
      "outputs": []
    },
    {
      "cell_type": "code",
      "source": [
        "train_df.head()"
      ],
      "metadata": {
        "colab": {
          "base_uri": "https://localhost:8080/",
          "height": 206
        },
        "id": "WpJJeh51HmQn",
        "outputId": "bb9b4c47-455c-4fd1-c854-87cdd38e1d60"
      },
      "execution_count": null,
      "outputs": [
        {
          "output_type": "execute_result",
          "data": {
            "text/plain": [
              "   PassengerId  Survived  Pclass  \\\n",
              "0            1         0       3   \n",
              "1            2         1       1   \n",
              "2            3         1       3   \n",
              "3            4         1       1   \n",
              "4            5         0       3   \n",
              "\n",
              "                                                Name     Sex   Age  SibSp  \\\n",
              "0                            Braund, Mr. Owen Harris    male  22.0      1   \n",
              "1  Cumings, Mrs. John Bradley (Florence Briggs Th...  female  38.0      1   \n",
              "2                             Heikkinen, Miss. Laina  female  26.0      0   \n",
              "3       Futrelle, Mrs. Jacques Heath (Lily May Peel)  female  35.0      1   \n",
              "4                           Allen, Mr. William Henry    male  35.0      0   \n",
              "\n",
              "   Parch            Ticket     Fare Cabin Embarked  \n",
              "0      0         A/5 21171   7.2500   NaN        S  \n",
              "1      0          PC 17599  71.2833   C85        C  \n",
              "2      0  STON/O2. 3101282   7.9250   NaN        S  \n",
              "3      0            113803  53.1000  C123        S  \n",
              "4      0            373450   8.0500   NaN        S  "
            ],
            "text/html": [
              "\n",
              "  <div id=\"df-0fc83b71-0219-482a-900c-afc7b782aff1\" class=\"colab-df-container\">\n",
              "    <div>\n",
              "<style scoped>\n",
              "    .dataframe tbody tr th:only-of-type {\n",
              "        vertical-align: middle;\n",
              "    }\n",
              "\n",
              "    .dataframe tbody tr th {\n",
              "        vertical-align: top;\n",
              "    }\n",
              "\n",
              "    .dataframe thead th {\n",
              "        text-align: right;\n",
              "    }\n",
              "</style>\n",
              "<table border=\"1\" class=\"dataframe\">\n",
              "  <thead>\n",
              "    <tr style=\"text-align: right;\">\n",
              "      <th></th>\n",
              "      <th>PassengerId</th>\n",
              "      <th>Survived</th>\n",
              "      <th>Pclass</th>\n",
              "      <th>Name</th>\n",
              "      <th>Sex</th>\n",
              "      <th>Age</th>\n",
              "      <th>SibSp</th>\n",
              "      <th>Parch</th>\n",
              "      <th>Ticket</th>\n",
              "      <th>Fare</th>\n",
              "      <th>Cabin</th>\n",
              "      <th>Embarked</th>\n",
              "    </tr>\n",
              "  </thead>\n",
              "  <tbody>\n",
              "    <tr>\n",
              "      <th>0</th>\n",
              "      <td>1</td>\n",
              "      <td>0</td>\n",
              "      <td>3</td>\n",
              "      <td>Braund, Mr. Owen Harris</td>\n",
              "      <td>male</td>\n",
              "      <td>22.0</td>\n",
              "      <td>1</td>\n",
              "      <td>0</td>\n",
              "      <td>A/5 21171</td>\n",
              "      <td>7.2500</td>\n",
              "      <td>NaN</td>\n",
              "      <td>S</td>\n",
              "    </tr>\n",
              "    <tr>\n",
              "      <th>1</th>\n",
              "      <td>2</td>\n",
              "      <td>1</td>\n",
              "      <td>1</td>\n",
              "      <td>Cumings, Mrs. John Bradley (Florence Briggs Th...</td>\n",
              "      <td>female</td>\n",
              "      <td>38.0</td>\n",
              "      <td>1</td>\n",
              "      <td>0</td>\n",
              "      <td>PC 17599</td>\n",
              "      <td>71.2833</td>\n",
              "      <td>C85</td>\n",
              "      <td>C</td>\n",
              "    </tr>\n",
              "    <tr>\n",
              "      <th>2</th>\n",
              "      <td>3</td>\n",
              "      <td>1</td>\n",
              "      <td>3</td>\n",
              "      <td>Heikkinen, Miss. Laina</td>\n",
              "      <td>female</td>\n",
              "      <td>26.0</td>\n",
              "      <td>0</td>\n",
              "      <td>0</td>\n",
              "      <td>STON/O2. 3101282</td>\n",
              "      <td>7.9250</td>\n",
              "      <td>NaN</td>\n",
              "      <td>S</td>\n",
              "    </tr>\n",
              "    <tr>\n",
              "      <th>3</th>\n",
              "      <td>4</td>\n",
              "      <td>1</td>\n",
              "      <td>1</td>\n",
              "      <td>Futrelle, Mrs. Jacques Heath (Lily May Peel)</td>\n",
              "      <td>female</td>\n",
              "      <td>35.0</td>\n",
              "      <td>1</td>\n",
              "      <td>0</td>\n",
              "      <td>113803</td>\n",
              "      <td>53.1000</td>\n",
              "      <td>C123</td>\n",
              "      <td>S</td>\n",
              "    </tr>\n",
              "    <tr>\n",
              "      <th>4</th>\n",
              "      <td>5</td>\n",
              "      <td>0</td>\n",
              "      <td>3</td>\n",
              "      <td>Allen, Mr. William Henry</td>\n",
              "      <td>male</td>\n",
              "      <td>35.0</td>\n",
              "      <td>0</td>\n",
              "      <td>0</td>\n",
              "      <td>373450</td>\n",
              "      <td>8.0500</td>\n",
              "      <td>NaN</td>\n",
              "      <td>S</td>\n",
              "    </tr>\n",
              "  </tbody>\n",
              "</table>\n",
              "</div>\n",
              "    <div class=\"colab-df-buttons\">\n",
              "\n",
              "  <div class=\"colab-df-container\">\n",
              "    <button class=\"colab-df-convert\" onclick=\"convertToInteractive('df-0fc83b71-0219-482a-900c-afc7b782aff1')\"\n",
              "            title=\"Convert this dataframe to an interactive table.\"\n",
              "            style=\"display:none;\">\n",
              "\n",
              "  <svg xmlns=\"http://www.w3.org/2000/svg\" height=\"24px\" viewBox=\"0 -960 960 960\">\n",
              "    <path d=\"M120-120v-720h720v720H120Zm60-500h600v-160H180v160Zm220 220h160v-160H400v160Zm0 220h160v-160H400v160ZM180-400h160v-160H180v160Zm440 0h160v-160H620v160ZM180-180h160v-160H180v160Zm440 0h160v-160H620v160Z\"/>\n",
              "  </svg>\n",
              "    </button>\n",
              "\n",
              "  <style>\n",
              "    .colab-df-container {\n",
              "      display:flex;\n",
              "      gap: 12px;\n",
              "    }\n",
              "\n",
              "    .colab-df-convert {\n",
              "      background-color: #E8F0FE;\n",
              "      border: none;\n",
              "      border-radius: 50%;\n",
              "      cursor: pointer;\n",
              "      display: none;\n",
              "      fill: #1967D2;\n",
              "      height: 32px;\n",
              "      padding: 0 0 0 0;\n",
              "      width: 32px;\n",
              "    }\n",
              "\n",
              "    .colab-df-convert:hover {\n",
              "      background-color: #E2EBFA;\n",
              "      box-shadow: 0px 1px 2px rgba(60, 64, 67, 0.3), 0px 1px 3px 1px rgba(60, 64, 67, 0.15);\n",
              "      fill: #174EA6;\n",
              "    }\n",
              "\n",
              "    .colab-df-buttons div {\n",
              "      margin-bottom: 4px;\n",
              "    }\n",
              "\n",
              "    [theme=dark] .colab-df-convert {\n",
              "      background-color: #3B4455;\n",
              "      fill: #D2E3FC;\n",
              "    }\n",
              "\n",
              "    [theme=dark] .colab-df-convert:hover {\n",
              "      background-color: #434B5C;\n",
              "      box-shadow: 0px 1px 3px 1px rgba(0, 0, 0, 0.15);\n",
              "      filter: drop-shadow(0px 1px 2px rgba(0, 0, 0, 0.3));\n",
              "      fill: #FFFFFF;\n",
              "    }\n",
              "  </style>\n",
              "\n",
              "    <script>\n",
              "      const buttonEl =\n",
              "        document.querySelector('#df-0fc83b71-0219-482a-900c-afc7b782aff1 button.colab-df-convert');\n",
              "      buttonEl.style.display =\n",
              "        google.colab.kernel.accessAllowed ? 'block' : 'none';\n",
              "\n",
              "      async function convertToInteractive(key) {\n",
              "        const element = document.querySelector('#df-0fc83b71-0219-482a-900c-afc7b782aff1');\n",
              "        const dataTable =\n",
              "          await google.colab.kernel.invokeFunction('convertToInteractive',\n",
              "                                                    [key], {});\n",
              "        if (!dataTable) return;\n",
              "\n",
              "        const docLinkHtml = 'Like what you see? Visit the ' +\n",
              "          '<a target=\"_blank\" href=https://colab.research.google.com/notebooks/data_table.ipynb>data table notebook</a>'\n",
              "          + ' to learn more about interactive tables.';\n",
              "        element.innerHTML = '';\n",
              "        dataTable['output_type'] = 'display_data';\n",
              "        await google.colab.output.renderOutput(dataTable, element);\n",
              "        const docLink = document.createElement('div');\n",
              "        docLink.innerHTML = docLinkHtml;\n",
              "        element.appendChild(docLink);\n",
              "      }\n",
              "    </script>\n",
              "  </div>\n",
              "\n",
              "\n",
              "<div id=\"df-3b4d555a-6b20-4c85-8eba-503b4dc14f53\">\n",
              "  <button class=\"colab-df-quickchart\" onclick=\"quickchart('df-3b4d555a-6b20-4c85-8eba-503b4dc14f53')\"\n",
              "            title=\"Suggest charts.\"\n",
              "            style=\"display:none;\">\n",
              "\n",
              "<svg xmlns=\"http://www.w3.org/2000/svg\" height=\"24px\"viewBox=\"0 0 24 24\"\n",
              "     width=\"24px\">\n",
              "    <g>\n",
              "        <path d=\"M19 3H5c-1.1 0-2 .9-2 2v14c0 1.1.9 2 2 2h14c1.1 0 2-.9 2-2V5c0-1.1-.9-2-2-2zM9 17H7v-7h2v7zm4 0h-2V7h2v10zm4 0h-2v-4h2v4z\"/>\n",
              "    </g>\n",
              "</svg>\n",
              "  </button>\n",
              "\n",
              "<style>\n",
              "  .colab-df-quickchart {\n",
              "      --bg-color: #E8F0FE;\n",
              "      --fill-color: #1967D2;\n",
              "      --hover-bg-color: #E2EBFA;\n",
              "      --hover-fill-color: #174EA6;\n",
              "      --disabled-fill-color: #AAA;\n",
              "      --disabled-bg-color: #DDD;\n",
              "  }\n",
              "\n",
              "  [theme=dark] .colab-df-quickchart {\n",
              "      --bg-color: #3B4455;\n",
              "      --fill-color: #D2E3FC;\n",
              "      --hover-bg-color: #434B5C;\n",
              "      --hover-fill-color: #FFFFFF;\n",
              "      --disabled-bg-color: #3B4455;\n",
              "      --disabled-fill-color: #666;\n",
              "  }\n",
              "\n",
              "  .colab-df-quickchart {\n",
              "    background-color: var(--bg-color);\n",
              "    border: none;\n",
              "    border-radius: 50%;\n",
              "    cursor: pointer;\n",
              "    display: none;\n",
              "    fill: var(--fill-color);\n",
              "    height: 32px;\n",
              "    padding: 0;\n",
              "    width: 32px;\n",
              "  }\n",
              "\n",
              "  .colab-df-quickchart:hover {\n",
              "    background-color: var(--hover-bg-color);\n",
              "    box-shadow: 0 1px 2px rgba(60, 64, 67, 0.3), 0 1px 3px 1px rgba(60, 64, 67, 0.15);\n",
              "    fill: var(--button-hover-fill-color);\n",
              "  }\n",
              "\n",
              "  .colab-df-quickchart-complete:disabled,\n",
              "  .colab-df-quickchart-complete:disabled:hover {\n",
              "    background-color: var(--disabled-bg-color);\n",
              "    fill: var(--disabled-fill-color);\n",
              "    box-shadow: none;\n",
              "  }\n",
              "\n",
              "  .colab-df-spinner {\n",
              "    border: 2px solid var(--fill-color);\n",
              "    border-color: transparent;\n",
              "    border-bottom-color: var(--fill-color);\n",
              "    animation:\n",
              "      spin 1s steps(1) infinite;\n",
              "  }\n",
              "\n",
              "  @keyframes spin {\n",
              "    0% {\n",
              "      border-color: transparent;\n",
              "      border-bottom-color: var(--fill-color);\n",
              "      border-left-color: var(--fill-color);\n",
              "    }\n",
              "    20% {\n",
              "      border-color: transparent;\n",
              "      border-left-color: var(--fill-color);\n",
              "      border-top-color: var(--fill-color);\n",
              "    }\n",
              "    30% {\n",
              "      border-color: transparent;\n",
              "      border-left-color: var(--fill-color);\n",
              "      border-top-color: var(--fill-color);\n",
              "      border-right-color: var(--fill-color);\n",
              "    }\n",
              "    40% {\n",
              "      border-color: transparent;\n",
              "      border-right-color: var(--fill-color);\n",
              "      border-top-color: var(--fill-color);\n",
              "    }\n",
              "    60% {\n",
              "      border-color: transparent;\n",
              "      border-right-color: var(--fill-color);\n",
              "    }\n",
              "    80% {\n",
              "      border-color: transparent;\n",
              "      border-right-color: var(--fill-color);\n",
              "      border-bottom-color: var(--fill-color);\n",
              "    }\n",
              "    90% {\n",
              "      border-color: transparent;\n",
              "      border-bottom-color: var(--fill-color);\n",
              "    }\n",
              "  }\n",
              "</style>\n",
              "\n",
              "  <script>\n",
              "    async function quickchart(key) {\n",
              "      const quickchartButtonEl =\n",
              "        document.querySelector('#' + key + ' button');\n",
              "      quickchartButtonEl.disabled = true;  // To prevent multiple clicks.\n",
              "      quickchartButtonEl.classList.add('colab-df-spinner');\n",
              "      try {\n",
              "        const charts = await google.colab.kernel.invokeFunction(\n",
              "            'suggestCharts', [key], {});\n",
              "      } catch (error) {\n",
              "        console.error('Error during call to suggestCharts:', error);\n",
              "      }\n",
              "      quickchartButtonEl.classList.remove('colab-df-spinner');\n",
              "      quickchartButtonEl.classList.add('colab-df-quickchart-complete');\n",
              "    }\n",
              "    (() => {\n",
              "      let quickchartButtonEl =\n",
              "        document.querySelector('#df-3b4d555a-6b20-4c85-8eba-503b4dc14f53 button');\n",
              "      quickchartButtonEl.style.display =\n",
              "        google.colab.kernel.accessAllowed ? 'block' : 'none';\n",
              "    })();\n",
              "  </script>\n",
              "</div>\n",
              "    </div>\n",
              "  </div>\n"
            ]
          },
          "metadata": {},
          "execution_count": 3
        }
      ]
    },
    {
      "cell_type": "code",
      "source": [
        "test_df.head()"
      ],
      "metadata": {
        "colab": {
          "base_uri": "https://localhost:8080/",
          "height": 206
        },
        "id": "BigJQKvSHzSO",
        "outputId": "46dbbe62-f5e2-4b3e-dd45-6b43c7491718"
      },
      "execution_count": null,
      "outputs": [
        {
          "output_type": "execute_result",
          "data": {
            "text/plain": [
              "   PassengerId  Pclass                                          Name     Sex  \\\n",
              "0          892       3                              Kelly, Mr. James    male   \n",
              "1          893       3              Wilkes, Mrs. James (Ellen Needs)  female   \n",
              "2          894       2                     Myles, Mr. Thomas Francis    male   \n",
              "3          895       3                              Wirz, Mr. Albert    male   \n",
              "4          896       3  Hirvonen, Mrs. Alexander (Helga E Lindqvist)  female   \n",
              "\n",
              "    Age  SibSp  Parch   Ticket     Fare Cabin Embarked  \n",
              "0  34.5      0      0   330911   7.8292   NaN        Q  \n",
              "1  47.0      1      0   363272   7.0000   NaN        S  \n",
              "2  62.0      0      0   240276   9.6875   NaN        Q  \n",
              "3  27.0      0      0   315154   8.6625   NaN        S  \n",
              "4  22.0      1      1  3101298  12.2875   NaN        S  "
            ],
            "text/html": [
              "\n",
              "  <div id=\"df-ba86ba75-22e1-449c-b883-97e66aaffbc2\" class=\"colab-df-container\">\n",
              "    <div>\n",
              "<style scoped>\n",
              "    .dataframe tbody tr th:only-of-type {\n",
              "        vertical-align: middle;\n",
              "    }\n",
              "\n",
              "    .dataframe tbody tr th {\n",
              "        vertical-align: top;\n",
              "    }\n",
              "\n",
              "    .dataframe thead th {\n",
              "        text-align: right;\n",
              "    }\n",
              "</style>\n",
              "<table border=\"1\" class=\"dataframe\">\n",
              "  <thead>\n",
              "    <tr style=\"text-align: right;\">\n",
              "      <th></th>\n",
              "      <th>PassengerId</th>\n",
              "      <th>Pclass</th>\n",
              "      <th>Name</th>\n",
              "      <th>Sex</th>\n",
              "      <th>Age</th>\n",
              "      <th>SibSp</th>\n",
              "      <th>Parch</th>\n",
              "      <th>Ticket</th>\n",
              "      <th>Fare</th>\n",
              "      <th>Cabin</th>\n",
              "      <th>Embarked</th>\n",
              "    </tr>\n",
              "  </thead>\n",
              "  <tbody>\n",
              "    <tr>\n",
              "      <th>0</th>\n",
              "      <td>892</td>\n",
              "      <td>3</td>\n",
              "      <td>Kelly, Mr. James</td>\n",
              "      <td>male</td>\n",
              "      <td>34.5</td>\n",
              "      <td>0</td>\n",
              "      <td>0</td>\n",
              "      <td>330911</td>\n",
              "      <td>7.8292</td>\n",
              "      <td>NaN</td>\n",
              "      <td>Q</td>\n",
              "    </tr>\n",
              "    <tr>\n",
              "      <th>1</th>\n",
              "      <td>893</td>\n",
              "      <td>3</td>\n",
              "      <td>Wilkes, Mrs. James (Ellen Needs)</td>\n",
              "      <td>female</td>\n",
              "      <td>47.0</td>\n",
              "      <td>1</td>\n",
              "      <td>0</td>\n",
              "      <td>363272</td>\n",
              "      <td>7.0000</td>\n",
              "      <td>NaN</td>\n",
              "      <td>S</td>\n",
              "    </tr>\n",
              "    <tr>\n",
              "      <th>2</th>\n",
              "      <td>894</td>\n",
              "      <td>2</td>\n",
              "      <td>Myles, Mr. Thomas Francis</td>\n",
              "      <td>male</td>\n",
              "      <td>62.0</td>\n",
              "      <td>0</td>\n",
              "      <td>0</td>\n",
              "      <td>240276</td>\n",
              "      <td>9.6875</td>\n",
              "      <td>NaN</td>\n",
              "      <td>Q</td>\n",
              "    </tr>\n",
              "    <tr>\n",
              "      <th>3</th>\n",
              "      <td>895</td>\n",
              "      <td>3</td>\n",
              "      <td>Wirz, Mr. Albert</td>\n",
              "      <td>male</td>\n",
              "      <td>27.0</td>\n",
              "      <td>0</td>\n",
              "      <td>0</td>\n",
              "      <td>315154</td>\n",
              "      <td>8.6625</td>\n",
              "      <td>NaN</td>\n",
              "      <td>S</td>\n",
              "    </tr>\n",
              "    <tr>\n",
              "      <th>4</th>\n",
              "      <td>896</td>\n",
              "      <td>3</td>\n",
              "      <td>Hirvonen, Mrs. Alexander (Helga E Lindqvist)</td>\n",
              "      <td>female</td>\n",
              "      <td>22.0</td>\n",
              "      <td>1</td>\n",
              "      <td>1</td>\n",
              "      <td>3101298</td>\n",
              "      <td>12.2875</td>\n",
              "      <td>NaN</td>\n",
              "      <td>S</td>\n",
              "    </tr>\n",
              "  </tbody>\n",
              "</table>\n",
              "</div>\n",
              "    <div class=\"colab-df-buttons\">\n",
              "\n",
              "  <div class=\"colab-df-container\">\n",
              "    <button class=\"colab-df-convert\" onclick=\"convertToInteractive('df-ba86ba75-22e1-449c-b883-97e66aaffbc2')\"\n",
              "            title=\"Convert this dataframe to an interactive table.\"\n",
              "            style=\"display:none;\">\n",
              "\n",
              "  <svg xmlns=\"http://www.w3.org/2000/svg\" height=\"24px\" viewBox=\"0 -960 960 960\">\n",
              "    <path d=\"M120-120v-720h720v720H120Zm60-500h600v-160H180v160Zm220 220h160v-160H400v160Zm0 220h160v-160H400v160ZM180-400h160v-160H180v160Zm440 0h160v-160H620v160ZM180-180h160v-160H180v160Zm440 0h160v-160H620v160Z\"/>\n",
              "  </svg>\n",
              "    </button>\n",
              "\n",
              "  <style>\n",
              "    .colab-df-container {\n",
              "      display:flex;\n",
              "      gap: 12px;\n",
              "    }\n",
              "\n",
              "    .colab-df-convert {\n",
              "      background-color: #E8F0FE;\n",
              "      border: none;\n",
              "      border-radius: 50%;\n",
              "      cursor: pointer;\n",
              "      display: none;\n",
              "      fill: #1967D2;\n",
              "      height: 32px;\n",
              "      padding: 0 0 0 0;\n",
              "      width: 32px;\n",
              "    }\n",
              "\n",
              "    .colab-df-convert:hover {\n",
              "      background-color: #E2EBFA;\n",
              "      box-shadow: 0px 1px 2px rgba(60, 64, 67, 0.3), 0px 1px 3px 1px rgba(60, 64, 67, 0.15);\n",
              "      fill: #174EA6;\n",
              "    }\n",
              "\n",
              "    .colab-df-buttons div {\n",
              "      margin-bottom: 4px;\n",
              "    }\n",
              "\n",
              "    [theme=dark] .colab-df-convert {\n",
              "      background-color: #3B4455;\n",
              "      fill: #D2E3FC;\n",
              "    }\n",
              "\n",
              "    [theme=dark] .colab-df-convert:hover {\n",
              "      background-color: #434B5C;\n",
              "      box-shadow: 0px 1px 3px 1px rgba(0, 0, 0, 0.15);\n",
              "      filter: drop-shadow(0px 1px 2px rgba(0, 0, 0, 0.3));\n",
              "      fill: #FFFFFF;\n",
              "    }\n",
              "  </style>\n",
              "\n",
              "    <script>\n",
              "      const buttonEl =\n",
              "        document.querySelector('#df-ba86ba75-22e1-449c-b883-97e66aaffbc2 button.colab-df-convert');\n",
              "      buttonEl.style.display =\n",
              "        google.colab.kernel.accessAllowed ? 'block' : 'none';\n",
              "\n",
              "      async function convertToInteractive(key) {\n",
              "        const element = document.querySelector('#df-ba86ba75-22e1-449c-b883-97e66aaffbc2');\n",
              "        const dataTable =\n",
              "          await google.colab.kernel.invokeFunction('convertToInteractive',\n",
              "                                                    [key], {});\n",
              "        if (!dataTable) return;\n",
              "\n",
              "        const docLinkHtml = 'Like what you see? Visit the ' +\n",
              "          '<a target=\"_blank\" href=https://colab.research.google.com/notebooks/data_table.ipynb>data table notebook</a>'\n",
              "          + ' to learn more about interactive tables.';\n",
              "        element.innerHTML = '';\n",
              "        dataTable['output_type'] = 'display_data';\n",
              "        await google.colab.output.renderOutput(dataTable, element);\n",
              "        const docLink = document.createElement('div');\n",
              "        docLink.innerHTML = docLinkHtml;\n",
              "        element.appendChild(docLink);\n",
              "      }\n",
              "    </script>\n",
              "  </div>\n",
              "\n",
              "\n",
              "<div id=\"df-d6260312-de2e-4e8d-8067-6cafb9ce2303\">\n",
              "  <button class=\"colab-df-quickchart\" onclick=\"quickchart('df-d6260312-de2e-4e8d-8067-6cafb9ce2303')\"\n",
              "            title=\"Suggest charts.\"\n",
              "            style=\"display:none;\">\n",
              "\n",
              "<svg xmlns=\"http://www.w3.org/2000/svg\" height=\"24px\"viewBox=\"0 0 24 24\"\n",
              "     width=\"24px\">\n",
              "    <g>\n",
              "        <path d=\"M19 3H5c-1.1 0-2 .9-2 2v14c0 1.1.9 2 2 2h14c1.1 0 2-.9 2-2V5c0-1.1-.9-2-2-2zM9 17H7v-7h2v7zm4 0h-2V7h2v10zm4 0h-2v-4h2v4z\"/>\n",
              "    </g>\n",
              "</svg>\n",
              "  </button>\n",
              "\n",
              "<style>\n",
              "  .colab-df-quickchart {\n",
              "      --bg-color: #E8F0FE;\n",
              "      --fill-color: #1967D2;\n",
              "      --hover-bg-color: #E2EBFA;\n",
              "      --hover-fill-color: #174EA6;\n",
              "      --disabled-fill-color: #AAA;\n",
              "      --disabled-bg-color: #DDD;\n",
              "  }\n",
              "\n",
              "  [theme=dark] .colab-df-quickchart {\n",
              "      --bg-color: #3B4455;\n",
              "      --fill-color: #D2E3FC;\n",
              "      --hover-bg-color: #434B5C;\n",
              "      --hover-fill-color: #FFFFFF;\n",
              "      --disabled-bg-color: #3B4455;\n",
              "      --disabled-fill-color: #666;\n",
              "  }\n",
              "\n",
              "  .colab-df-quickchart {\n",
              "    background-color: var(--bg-color);\n",
              "    border: none;\n",
              "    border-radius: 50%;\n",
              "    cursor: pointer;\n",
              "    display: none;\n",
              "    fill: var(--fill-color);\n",
              "    height: 32px;\n",
              "    padding: 0;\n",
              "    width: 32px;\n",
              "  }\n",
              "\n",
              "  .colab-df-quickchart:hover {\n",
              "    background-color: var(--hover-bg-color);\n",
              "    box-shadow: 0 1px 2px rgba(60, 64, 67, 0.3), 0 1px 3px 1px rgba(60, 64, 67, 0.15);\n",
              "    fill: var(--button-hover-fill-color);\n",
              "  }\n",
              "\n",
              "  .colab-df-quickchart-complete:disabled,\n",
              "  .colab-df-quickchart-complete:disabled:hover {\n",
              "    background-color: var(--disabled-bg-color);\n",
              "    fill: var(--disabled-fill-color);\n",
              "    box-shadow: none;\n",
              "  }\n",
              "\n",
              "  .colab-df-spinner {\n",
              "    border: 2px solid var(--fill-color);\n",
              "    border-color: transparent;\n",
              "    border-bottom-color: var(--fill-color);\n",
              "    animation:\n",
              "      spin 1s steps(1) infinite;\n",
              "  }\n",
              "\n",
              "  @keyframes spin {\n",
              "    0% {\n",
              "      border-color: transparent;\n",
              "      border-bottom-color: var(--fill-color);\n",
              "      border-left-color: var(--fill-color);\n",
              "    }\n",
              "    20% {\n",
              "      border-color: transparent;\n",
              "      border-left-color: var(--fill-color);\n",
              "      border-top-color: var(--fill-color);\n",
              "    }\n",
              "    30% {\n",
              "      border-color: transparent;\n",
              "      border-left-color: var(--fill-color);\n",
              "      border-top-color: var(--fill-color);\n",
              "      border-right-color: var(--fill-color);\n",
              "    }\n",
              "    40% {\n",
              "      border-color: transparent;\n",
              "      border-right-color: var(--fill-color);\n",
              "      border-top-color: var(--fill-color);\n",
              "    }\n",
              "    60% {\n",
              "      border-color: transparent;\n",
              "      border-right-color: var(--fill-color);\n",
              "    }\n",
              "    80% {\n",
              "      border-color: transparent;\n",
              "      border-right-color: var(--fill-color);\n",
              "      border-bottom-color: var(--fill-color);\n",
              "    }\n",
              "    90% {\n",
              "      border-color: transparent;\n",
              "      border-bottom-color: var(--fill-color);\n",
              "    }\n",
              "  }\n",
              "</style>\n",
              "\n",
              "  <script>\n",
              "    async function quickchart(key) {\n",
              "      const quickchartButtonEl =\n",
              "        document.querySelector('#' + key + ' button');\n",
              "      quickchartButtonEl.disabled = true;  // To prevent multiple clicks.\n",
              "      quickchartButtonEl.classList.add('colab-df-spinner');\n",
              "      try {\n",
              "        const charts = await google.colab.kernel.invokeFunction(\n",
              "            'suggestCharts', [key], {});\n",
              "      } catch (error) {\n",
              "        console.error('Error during call to suggestCharts:', error);\n",
              "      }\n",
              "      quickchartButtonEl.classList.remove('colab-df-spinner');\n",
              "      quickchartButtonEl.classList.add('colab-df-quickchart-complete');\n",
              "    }\n",
              "    (() => {\n",
              "      let quickchartButtonEl =\n",
              "        document.querySelector('#df-d6260312-de2e-4e8d-8067-6cafb9ce2303 button');\n",
              "      quickchartButtonEl.style.display =\n",
              "        google.colab.kernel.accessAllowed ? 'block' : 'none';\n",
              "    })();\n",
              "  </script>\n",
              "</div>\n",
              "    </div>\n",
              "  </div>\n"
            ]
          },
          "metadata": {},
          "execution_count": 4
        }
      ]
    },
    {
      "cell_type": "code",
      "source": [
        "# get basic info on the train_df\n",
        "train_df.info()"
      ],
      "metadata": {
        "colab": {
          "base_uri": "https://localhost:8080/"
        },
        "id": "XteE4qQbIO1L",
        "outputId": "ceb3d844-e388-444e-d65d-79941fd57845"
      },
      "execution_count": null,
      "outputs": [
        {
          "output_type": "stream",
          "name": "stdout",
          "text": [
            "<class 'pandas.core.frame.DataFrame'>\n",
            "RangeIndex: 891 entries, 0 to 890\n",
            "Data columns (total 12 columns):\n",
            " #   Column       Non-Null Count  Dtype  \n",
            "---  ------       --------------  -----  \n",
            " 0   PassengerId  891 non-null    int64  \n",
            " 1   Survived     891 non-null    int64  \n",
            " 2   Pclass       891 non-null    int64  \n",
            " 3   Name         891 non-null    object \n",
            " 4   Sex          891 non-null    object \n",
            " 5   Age          714 non-null    float64\n",
            " 6   SibSp        891 non-null    int64  \n",
            " 7   Parch        891 non-null    int64  \n",
            " 8   Ticket       891 non-null    object \n",
            " 9   Fare         891 non-null    float64\n",
            " 10  Cabin        204 non-null    object \n",
            " 11  Embarked     889 non-null    object \n",
            "dtypes: float64(2), int64(5), object(5)\n",
            "memory usage: 83.7+ KB\n"
          ]
        }
      ]
    },
    {
      "cell_type": "code",
      "source": [
        "# get basic info on the test_df\n",
        "test_df.info()"
      ],
      "metadata": {
        "colab": {
          "base_uri": "https://localhost:8080/"
        },
        "id": "MfgKdM1YIbj6",
        "outputId": "a667944d-ad08-471f-9d8f-f2fe05b5d722"
      },
      "execution_count": null,
      "outputs": [
        {
          "output_type": "stream",
          "name": "stdout",
          "text": [
            "<class 'pandas.core.frame.DataFrame'>\n",
            "RangeIndex: 418 entries, 0 to 417\n",
            "Data columns (total 11 columns):\n",
            " #   Column       Non-Null Count  Dtype  \n",
            "---  ------       --------------  -----  \n",
            " 0   PassengerId  418 non-null    int64  \n",
            " 1   Pclass       418 non-null    int64  \n",
            " 2   Name         418 non-null    object \n",
            " 3   Sex          418 non-null    object \n",
            " 4   Age          332 non-null    float64\n",
            " 5   SibSp        418 non-null    int64  \n",
            " 6   Parch        418 non-null    int64  \n",
            " 7   Ticket       418 non-null    object \n",
            " 8   Fare         417 non-null    float64\n",
            " 9   Cabin        91 non-null     object \n",
            " 10  Embarked     418 non-null    object \n",
            "dtypes: float64(2), int64(4), object(5)\n",
            "memory usage: 36.0+ KB\n"
          ]
        }
      ]
    },
    {
      "cell_type": "markdown",
      "source": [
        "**Dimensions**\n",
        "\n",
        "\n",
        "\n",
        "*   The training data has 891 rows and 11 columns.\n",
        "*   The test data has 418 rows and 10 columns.\n",
        "\n",
        "*   Survived is the dependent variable.\n",
        "\n",
        "\n",
        "\n",
        "\n"
      ],
      "metadata": {
        "id": "i_ouCCSrJCy4"
      }
    },
    {
      "cell_type": "markdown",
      "source": [
        "\n",
        "**Data Dictionary**\n",
        "\n",
        "*   PassengerId - int. Key.\n",
        "\n",
        "*   Survived - int. Survival. Boolean.\n",
        "\n",
        "\n",
        "\n",
        "\n",
        "\n",
        "\n",
        "\n",
        "\n",
        "*   Pclass - int. Ticket class.\n",
        "\n",
        "*   Name - str. Name of passenger.\n",
        "\n",
        "*   Sex - str. Sex of passenger.\n",
        "\n",
        "*   Age - float. Age of passenger. If age is estimated, takes xx.5. Has nulls.\n",
        "\n",
        "*   SibSp - int. # of siblings/spouses on board.\n",
        "*   Parch - int. # of parents/ children aboard the titanic.\n",
        "\n",
        "\n",
        "*   Ticket - str. Ticket number.\n",
        "\n",
        "\n",
        "*   Fare - float. Fare paid by passenger. Has nulls.\n",
        "\n",
        "\n",
        "*   Cabin - str. Cabin of passenger. Has nulls.\n",
        "\n",
        "\n",
        "*   Embarked - str. Port of embarkation. C = Cherbourg, Q = Queenstown, S =\n",
        "Southampton. Has nulls.\n",
        "\n",
        "\n",
        "\n"
      ],
      "metadata": {
        "id": "dbdPPxx5JePf"
      }
    },
    {
      "cell_type": "markdown",
      "source": [
        "**Initial Hypotheses**\n",
        "\n",
        "\n",
        "\n",
        "\n",
        "\n",
        "*   Young children will survive.\n",
        "\n",
        "*   Young women will survive.\n",
        "\n",
        "*   Rich people will survive.\n",
        "*   Location on ship matters.\n",
        "\n",
        "\n",
        "*   Titles will or will not survive (depending on title).\n",
        "\n",
        "\n",
        "*   Larger families will not survive.\n",
        "\n"
      ],
      "metadata": {
        "id": "MWV9HZfKLOsy"
      }
    },
    {
      "cell_type": "markdown",
      "source": [
        "\n",
        "\n",
        "**Data Understanding**\n",
        "\n",
        "Dependent Variable EDA"
      ],
      "metadata": {
        "id": "ue3HxyM5OKXE"
      }
    },
    {
      "cell_type": "code",
      "source": [
        "# set id and dependent variable\n",
        "id_variable= 'PassengerId'\n",
        "dependent_variable = 'Survived'"
      ],
      "metadata": {
        "id": "zxxz-8BKJQcX"
      },
      "execution_count": null,
      "outputs": []
    },
    {
      "cell_type": "code",
      "source": [
        "# Survived\n",
        "sns.catplot(x=dependent_variable, data=train_df, kind='count').set(title=dependent_variable)\n",
        "plt.show()"
      ],
      "metadata": {
        "colab": {
          "base_uri": "https://localhost:8080/",
          "height": 529
        },
        "id": "tJEySa5WOY0i",
        "outputId": "5e5845f0-7358-45e9-94a8-29cd51685429"
      },
      "execution_count": null,
      "outputs": [
        {
          "output_type": "display_data",
          "data": {
            "text/plain": [
              "<Figure size 500x500 with 1 Axes>"
            ],
            "image/png": "[encoded data removed]"
          },
          "metadata": {}
        }
      ]
    },
    {
      "cell_type": "markdown",
      "source": [
        "Survived is relatively balanced (62:38 split)."
      ],
      "metadata": {
        "id": "PjkIB3mlOqlZ"
      }
    },
    {
      "cell_type": "markdown",
      "source": [
        "**Categorical EDA**\n",
        "\n",
        "Pclass"
      ],
      "metadata": {
        "id": "Wzxg6fWxOtbo"
      }
    },
    {
      "cell_type": "code",
      "source": [
        "# PClass\n",
        "sns.catplot(x='Pclass', data=train_df, kind='count').set(title='Pclass')\n",
        "plt.show()"
      ],
      "metadata": {
        "colab": {
          "base_uri": "https://localhost:8080/",
          "height": 529
        },
        "id": "mRfoAQowOrdo",
        "outputId": "8a5435b7-ebe3-43d4-d9a8-71a95bd849af"
      },
      "execution_count": null,
      "outputs": [
        {
          "output_type": "display_data",
          "data": {
            "text/plain": [
              "<Figure size 500x500 with 1 Axes>"
            ],
            "image/png": "[encoded data removed]"
          },
          "metadata": {}
        }
      ]
    },
    {
      "cell_type": "code",
      "source": [
        "# PClass and Survived\n",
        "sns.catplot(x='Pclass', hue=dependent_variable, data=train_df, kind='count').set(title='Pclass and Survived')\n",
        "plt.show()"
      ],
      "metadata": {
        "colab": {
          "base_uri": "https://localhost:8080/",
          "height": 529
        },
        "id": "aqOw_M1SPA-K",
        "outputId": "24097e7b-3a99-48f5-dcb3-9c449fed6b92"
      },
      "execution_count": null,
      "outputs": [
        {
          "output_type": "display_data",
          "data": {
            "text/plain": [
              "<Figure size 572.111x500 with 1 Axes>"
            ],
            "image/png": "[encoded data removed]"
          },
          "metadata": {}
        }
      ]
    },
    {
      "cell_type": "markdown",
      "source": [
        "As expected, Pclass appears to be correlated with survival."
      ],
      "metadata": {
        "id": "4eIsuB-YPOkW"
      }
    },
    {
      "cell_type": "markdown",
      "source": [
        "**Sex**"
      ],
      "metadata": {
        "id": "_-T8FKDCsVUq"
      }
    },
    {
      "cell_type": "code",
      "source": [
        "#sex\n",
        "sns.catplot(x='Sex', data=train_df, kind='count').set(title='Sex')\n",
        "plt.show()"
      ],
      "metadata": {
        "colab": {
          "base_uri": "https://localhost:8080/",
          "height": 528
        },
        "id": "C14ZFA3VPPVS",
        "outputId": "1d948c1f-d454-4567-c7ec-55c2a2e89430"
      },
      "execution_count": null,
      "outputs": [
        {
          "output_type": "display_data",
          "data": {
            "text/plain": [
              "<Figure size 500x500 with 1 Axes>"
            ],
            "image/png": "[encoded data removed]"
          },
          "metadata": {}
        }
      ]
    },
    {
      "cell_type": "code",
      "source": [
        "#sex and survived\n",
        "sns.catplot(x='Sex', hue=dependent_variable, data=train_df, kind='count').set(title='Sex and Survived')\n",
        "plt.show()"
      ],
      "metadata": {
        "colab": {
          "base_uri": "https://localhost:8080/",
          "height": 529
        },
        "id": "-oXKaL0Zs98b",
        "outputId": "ed1269ef-5f0e-451d-ad76-fe9ebbf8582d"
      },
      "execution_count": null,
      "outputs": [
        {
          "output_type": "display_data",
          "data": {
            "text/plain": [
              "<Figure size 572.111x500 with 1 Axes>"
            ],
            "image/png": "[encoded data removed]"
          },
          "metadata": {}
        }
      ]
    },
    {
      "cell_type": "markdown",
      "source": [
        "Sex appears to be correlated with survival"
      ],
      "metadata": {
        "id": "dtbmziZvtbVh"
      }
    },
    {
      "cell_type": "markdown",
      "source": [
        "**Embarked**"
      ],
      "metadata": {
        "id": "trHlT3G0tkz_"
      }
    },
    {
      "cell_type": "code",
      "source": [
        "sns.catplot(x='Embarked', data=train_df, kind='count').set(title='Embarked')\n",
        "plt.show()"
      ],
      "metadata": {
        "colab": {
          "base_uri": "https://localhost:8080/",
          "height": 529
        },
        "id": "WMkfrF1xtjJP",
        "outputId": "58592905-a967-4810-e573-f79df2bfd45d"
      },
      "execution_count": null,
      "outputs": [
        {
          "output_type": "display_data",
          "data": {
            "text/plain": [
              "<Figure size 500x500 with 1 Axes>"
            ],
            "image/png": "[encoded data removed]"
          },
          "metadata": {}
        }
      ]
    },
    {
      "cell_type": "code",
      "source": [
        "#Embarked and survived\n",
        "sns.catplot(x='Embarked', hue=dependent_variable, data=train_df, kind='count').set(title='Embarked and survived')\n",
        "plt.show()"
      ],
      "metadata": {
        "colab": {
          "base_uri": "https://localhost:8080/",
          "height": 529
        },
        "id": "nCfg2Sb4t7ti",
        "outputId": "3d6d8f2f-d0f0-4731-8c2c-cc26104b7f50"
      },
      "execution_count": null,
      "outputs": [
        {
          "output_type": "display_data",
          "data": {
            "text/plain": [
              "<Figure size 572.111x500 with 1 Axes>"
            ],
            "image/png": "[encoded data removed]"
          },
          "metadata": {}
        }
      ]
    },
    {
      "cell_type": "markdown",
      "source": [
        "Embarked appears to be correlated with survival. However,Embarked may be correlated with Pclass (given the nature of English economic geography at this time)."
      ],
      "metadata": {
        "id": "MuXDHOjfuhXS"
      }
    },
    {
      "cell_type": "code",
      "source": [
        "#Embarked and Pclass\n",
        "sns.catplot(x='Embarked', hue='Pclass', data=train_df, kind='count').set(title='Embarked and Pclass')\n",
        "plt.show()"
      ],
      "metadata": {
        "colab": {
          "base_uri": "https://localhost:8080/",
          "height": 529
        },
        "id": "djcVhxbiuiYN",
        "outputId": "3076e084-95c5-48f3-905b-6562474e3b4d"
      },
      "execution_count": null,
      "outputs": [
        {
          "output_type": "display_data",
          "data": {
            "text/plain": [
              "<Figure size 558.875x500 with 1 Axes>"
            ],
            "image/png": "[encoded data removed]"
          },
          "metadata": {}
        }
      ]
    },
    {
      "cell_type": "markdown",
      "source": [
        "S is disproportionately 3rd class. The relationship between Embarked appears to be a spurious correlation. Pclass is likely the underlying structure driving survival here."
      ],
      "metadata": {
        "id": "wykjQYuRvBym"
      }
    },
    {
      "cell_type": "markdown",
      "source": [
        "Quantitative EDA"
      ],
      "metadata": {
        "id": "IGRHyxUZvDkk"
      }
    },
    {
      "cell_type": "code",
      "source": [
        "#basic distrbutions of train_df\n",
        "train_df.describe()"
      ],
      "metadata": {
        "colab": {
          "base_uri": "https://localhost:8080/",
          "height": 300
        },
        "id": "t_SkyWaTvH6P",
        "outputId": "a76382e2-f6cf-4205-f1b9-1a5606a49fc8"
      },
      "execution_count": null,
      "outputs": [
        {
          "output_type": "execute_result",
          "data": {
            "text/plain": [
              "       PassengerId    Survived      Pclass         Age       SibSp  \\\n",
              "count   891.000000  891.000000  891.000000  714.000000  891.000000   \n",
              "mean    446.000000    0.383838    2.308642   29.699118    0.523008   \n",
              "std     257.353842    0.486592    0.836071   14.526497    1.102743   \n",
              "min       1.000000    0.000000    1.000000    0.420000    0.000000   \n",
              "25%     223.500000    0.000000    2.000000   20.125000    0.000000   \n",
              "50%     446.000000    0.000000    3.000000   28.000000    0.000000   \n",
              "75%     668.500000    1.000000    3.000000   38.000000    1.000000   \n",
              "max     891.000000    1.000000    3.000000   80.000000    8.000000   \n",
              "\n",
              "            Parch        Fare  \n",
              "count  891.000000  891.000000  \n",
              "mean     0.381594   32.204208  \n",
              "std      0.806057   49.693429  \n",
              "min      0.000000    0.000000  \n",
              "25%      0.000000    7.910400  \n",
              "50%      0.000000   14.454200  \n",
              "75%      0.000000   31.000000  \n",
              "max      6.000000  512.329200  "
            ],
            "text/html": [
              "\n",
              "  <div id=\"df-eaf6924e-c24a-437d-9a88-a77ffcff9888\" class=\"colab-df-container\">\n",
              "    <div>\n",
              "<style scoped>\n",
              "    .dataframe tbody tr th:only-of-type {\n",
              "        vertical-align: middle;\n",
              "    }\n",
              "\n",
              "    .dataframe tbody tr th {\n",
              "        vertical-align: top;\n",
              "    }\n",
              "\n",
              "    .dataframe thead th {\n",
              "        text-align: right;\n",
              "    }\n",
              "</style>\n",
              "<table border=\"1\" class=\"dataframe\">\n",
              "  <thead>\n",
              "    <tr style=\"text-align: right;\">\n",
              "      <th></th>\n",
              "      <th>PassengerId</th>\n",
              "      <th>Survived</th>\n",
              "      <th>Pclass</th>\n",
              "      <th>Age</th>\n",
              "      <th>SibSp</th>\n",
              "      <th>Parch</th>\n",
              "      <th>Fare</th>\n",
              "    </tr>\n",
              "  </thead>\n",
              "  <tbody>\n",
              "    <tr>\n",
              "      <th>count</th>\n",
              "      <td>891.000000</td>\n",
              "      <td>891.000000</td>\n",
              "      <td>891.000000</td>\n",
              "      <td>714.000000</td>\n",
              "      <td>891.000000</td>\n",
              "      <td>891.000000</td>\n",
              "      <td>891.000000</td>\n",
              "    </tr>\n",
              "    <tr>\n",
              "      <th>mean</th>\n",
              "      <td>446.000000</td>\n",
              "      <td>0.383838</td>\n",
              "      <td>2.308642</td>\n",
              "      <td>29.699118</td>\n",
              "      <td>0.523008</td>\n",
              "      <td>0.381594</td>\n",
              "      <td>32.204208</td>\n",
              "    </tr>\n",
              "    <tr>\n",
              "      <th>std</th>\n",
              "      <td>257.353842</td>\n",
              "      <td>0.486592</td>\n",
              "      <td>0.836071</td>\n",
              "      <td>14.526497</td>\n",
              "      <td>1.102743</td>\n",
              "      <td>0.806057</td>\n",
              "      <td>49.693429</td>\n",
              "    </tr>\n",
              "    <tr>\n",
              "      <th>min</th>\n",
              "      <td>1.000000</td>\n",
              "      <td>0.000000</td>\n",
              "      <td>1.000000</td>\n",
              "      <td>0.420000</td>\n",
              "      <td>0.000000</td>\n",
              "      <td>0.000000</td>\n",
              "      <td>0.000000</td>\n",
              "    </tr>\n",
              "    <tr>\n",
              "      <th>25%</th>\n",
              "      <td>223.500000</td>\n",
              "      <td>0.000000</td>\n",
              "      <td>2.000000</td>\n",
              "      <td>20.125000</td>\n",
              "      <td>0.000000</td>\n",
              "      <td>0.000000</td>\n",
              "      <td>7.910400</td>\n",
              "    </tr>\n",
              "    <tr>\n",
              "      <th>50%</th>\n",
              "      <td>446.000000</td>\n",
              "      <td>0.000000</td>\n",
              "      <td>3.000000</td>\n",
              "      <td>28.000000</td>\n",
              "      <td>0.000000</td>\n",
              "      <td>0.000000</td>\n",
              "      <td>14.454200</td>\n",
              "    </tr>\n",
              "    <tr>\n",
              "      <th>75%</th>\n",
              "      <td>668.500000</td>\n",
              "      <td>1.000000</td>\n",
              "      <td>3.000000</td>\n",
              "      <td>38.000000</td>\n",
              "      <td>1.000000</td>\n",
              "      <td>0.000000</td>\n",
              "      <td>31.000000</td>\n",
              "    </tr>\n",
              "    <tr>\n",
              "      <th>max</th>\n",
              "      <td>891.000000</td>\n",
              "      <td>1.000000</td>\n",
              "      <td>3.000000</td>\n",
              "      <td>80.000000</td>\n",
              "      <td>8.000000</td>\n",
              "      <td>6.000000</td>\n",
              "      <td>512.329200</td>\n",
              "    </tr>\n",
              "  </tbody>\n",
              "</table>\n",
              "</div>\n",
              "    <div class=\"colab-df-buttons\">\n",
              "\n",
              "  <div class=\"colab-df-container\">\n",
              "    <button class=\"colab-df-convert\" onclick=\"convertToInteractive('df-eaf6924e-c24a-437d-9a88-a77ffcff9888')\"\n",
              "            title=\"Convert this dataframe to an interactive table.\"\n",
              "            style=\"display:none;\">\n",
              "\n",
              "  <svg xmlns=\"http://www.w3.org/2000/svg\" height=\"24px\" viewBox=\"0 -960 960 960\">\n",
              "    <path d=\"M120-120v-720h720v720H120Zm60-500h600v-160H180v160Zm220 220h160v-160H400v160Zm0 220h160v-160H400v160ZM180-400h160v-160H180v160Zm440 0h160v-160H620v160ZM180-180h160v-160H180v160Zm440 0h160v-160H620v160Z\"/>\n",
              "  </svg>\n",
              "    </button>\n",
              "\n",
              "  <style>\n",
              "    .colab-df-container {\n",
              "      display:flex;\n",
              "      gap: 12px;\n",
              "    }\n",
              "\n",
              "    .colab-df-convert {\n",
              "      background-color: #E8F0FE;\n",
              "      border: none;\n",
              "      border-radius: 50%;\n",
              "      cursor: pointer;\n",
              "      display: none;\n",
              "      fill: #1967D2;\n",
              "      height: 32px;\n",
              "      padding: 0 0 0 0;\n",
              "      width: 32px;\n",
              "    }\n",
              "\n",
              "    .colab-df-convert:hover {\n",
              "      background-color: #E2EBFA;\n",
              "      box-shadow: 0px 1px 2px rgba(60, 64, 67, 0.3), 0px 1px 3px 1px rgba(60, 64, 67, 0.15);\n",
              "      fill: #174EA6;\n",
              "    }\n",
              "\n",
              "    .colab-df-buttons div {\n",
              "      margin-bottom: 4px;\n",
              "    }\n",
              "\n",
              "    [theme=dark] .colab-df-convert {\n",
              "      background-color: #3B4455;\n",
              "      fill: #D2E3FC;\n",
              "    }\n",
              "\n",
              "    [theme=dark] .colab-df-convert:hover {\n",
              "      background-color: #434B5C;\n",
              "      box-shadow: 0px 1px 3px 1px rgba(0, 0, 0, 0.15);\n",
              "      filter: drop-shadow(0px 1px 2px rgba(0, 0, 0, 0.3));\n",
              "      fill: #FFFFFF;\n",
              "    }\n",
              "  </style>\n",
              "\n",
              "    <script>\n",
              "      const buttonEl =\n",
              "        document.querySelector('#df-eaf6924e-c24a-437d-9a88-a77ffcff9888 button.colab-df-convert');\n",
              "      buttonEl.style.display =\n",
              "        google.colab.kernel.accessAllowed ? 'block' : 'none';\n",
              "\n",
              "      async function convertToInteractive(key) {\n",
              "        const element = document.querySelector('#df-eaf6924e-c24a-437d-9a88-a77ffcff9888');\n",
              "        const dataTable =\n",
              "          await google.colab.kernel.invokeFunction('convertToInteractive',\n",
              "                                                    [key], {});\n",
              "        if (!dataTable) return;\n",
              "\n",
              "        const docLinkHtml = 'Like what you see? Visit the ' +\n",
              "          '<a target=\"_blank\" href=https://colab.research.google.com/notebooks/data_table.ipynb>data table notebook</a>'\n",
              "          + ' to learn more about interactive tables.';\n",
              "        element.innerHTML = '';\n",
              "        dataTable['output_type'] = 'display_data';\n",
              "        await google.colab.output.renderOutput(dataTable, element);\n",
              "        const docLink = document.createElement('div');\n",
              "        docLink.innerHTML = docLinkHtml;\n",
              "        element.appendChild(docLink);\n",
              "      }\n",
              "    </script>\n",
              "  </div>\n",
              "\n",
              "\n",
              "<div id=\"df-c12d8447-64cb-499e-99f9-c58ca305979b\">\n",
              "  <button class=\"colab-df-quickchart\" onclick=\"quickchart('df-c12d8447-64cb-499e-99f9-c58ca305979b')\"\n",
              "            title=\"Suggest charts.\"\n",
              "            style=\"display:none;\">\n",
              "\n",
              "<svg xmlns=\"http://www.w3.org/2000/svg\" height=\"24px\"viewBox=\"0 0 24 24\"\n",
              "     width=\"24px\">\n",
              "    <g>\n",
              "        <path d=\"M19 3H5c-1.1 0-2 .9-2 2v14c0 1.1.9 2 2 2h14c1.1 0 2-.9 2-2V5c0-1.1-.9-2-2-2zM9 17H7v-7h2v7zm4 0h-2V7h2v10zm4 0h-2v-4h2v4z\"/>\n",
              "    </g>\n",
              "</svg>\n",
              "  </button>\n",
              "\n",
              "<style>\n",
              "  .colab-df-quickchart {\n",
              "      --bg-color: #E8F0FE;\n",
              "      --fill-color: #1967D2;\n",
              "      --hover-bg-color: #E2EBFA;\n",
              "      --hover-fill-color: #174EA6;\n",
              "      --disabled-fill-color: #AAA;\n",
              "      --disabled-bg-color: #DDD;\n",
              "  }\n",
              "\n",
              "  [theme=dark] .colab-df-quickchart {\n",
              "      --bg-color: #3B4455;\n",
              "      --fill-color: #D2E3FC;\n",
              "      --hover-bg-color: #434B5C;\n",
              "      --hover-fill-color: #FFFFFF;\n",
              "      --disabled-bg-color: #3B4455;\n",
              "      --disabled-fill-color: #666;\n",
              "  }\n",
              "\n",
              "  .colab-df-quickchart {\n",
              "    background-color: var(--bg-color);\n",
              "    border: none;\n",
              "    border-radius: 50%;\n",
              "    cursor: pointer;\n",
              "    display: none;\n",
              "    fill: var(--fill-color);\n",
              "    height: 32px;\n",
              "    padding: 0;\n",
              "    width: 32px;\n",
              "  }\n",
              "\n",
              "  .colab-df-quickchart:hover {\n",
              "    background-color: var(--hover-bg-color);\n",
              "    box-shadow: 0 1px 2px rgba(60, 64, 67, 0.3), 0 1px 3px 1px rgba(60, 64, 67, 0.15);\n",
              "    fill: var(--button-hover-fill-color);\n",
              "  }\n",
              "\n",
              "  .colab-df-quickchart-complete:disabled,\n",
              "  .colab-df-quickchart-complete:disabled:hover {\n",
              "    background-color: var(--disabled-bg-color);\n",
              "    fill: var(--disabled-fill-color);\n",
              "    box-shadow: none;\n",
              "  }\n",
              "\n",
              "  .colab-df-spinner {\n",
              "    border: 2px solid var(--fill-color);\n",
              "    border-color: transparent;\n",
              "    border-bottom-color: var(--fill-color);\n",
              "    animation:\n",
              "      spin 1s steps(1) infinite;\n",
              "  }\n",
              "\n",
              "  @keyframes spin {\n",
              "    0% {\n",
              "      border-color: transparent;\n",
              "      border-bottom-color: var(--fill-color);\n",
              "      border-left-color: var(--fill-color);\n",
              "    }\n",
              "    20% {\n",
              "      border-color: transparent;\n",
              "      border-left-color: var(--fill-color);\n",
              "      border-top-color: var(--fill-color);\n",
              "    }\n",
              "    30% {\n",
              "      border-color: transparent;\n",
              "      border-left-color: var(--fill-color);\n",
              "      border-top-color: var(--fill-color);\n",
              "      border-right-color: var(--fill-color);\n",
              "    }\n",
              "    40% {\n",
              "      border-color: transparent;\n",
              "      border-right-color: var(--fill-color);\n",
              "      border-top-color: var(--fill-color);\n",
              "    }\n",
              "    60% {\n",
              "      border-color: transparent;\n",
              "      border-right-color: var(--fill-color);\n",
              "    }\n",
              "    80% {\n",
              "      border-color: transparent;\n",
              "      border-right-color: var(--fill-color);\n",
              "      border-bottom-color: var(--fill-color);\n",
              "    }\n",
              "    90% {\n",
              "      border-color: transparent;\n",
              "      border-bottom-color: var(--fill-color);\n",
              "    }\n",
              "  }\n",
              "</style>\n",
              "\n",
              "  <script>\n",
              "    async function quickchart(key) {\n",
              "      const quickchartButtonEl =\n",
              "        document.querySelector('#' + key + ' button');\n",
              "      quickchartButtonEl.disabled = true;  // To prevent multiple clicks.\n",
              "      quickchartButtonEl.classList.add('colab-df-spinner');\n",
              "      try {\n",
              "        const charts = await google.colab.kernel.invokeFunction(\n",
              "            'suggestCharts', [key], {});\n",
              "      } catch (error) {\n",
              "        console.error('Error during call to suggestCharts:', error);\n",
              "      }\n",
              "      quickchartButtonEl.classList.remove('colab-df-spinner');\n",
              "      quickchartButtonEl.classList.add('colab-df-quickchart-complete');\n",
              "    }\n",
              "    (() => {\n",
              "      let quickchartButtonEl =\n",
              "        document.querySelector('#df-c12d8447-64cb-499e-99f9-c58ca305979b button');\n",
              "      quickchartButtonEl.style.display =\n",
              "        google.colab.kernel.accessAllowed ? 'block' : 'none';\n",
              "    })();\n",
              "  </script>\n",
              "</div>\n",
              "    </div>\n",
              "  </div>\n"
            ]
          },
          "metadata": {},
          "execution_count": 16
        }
      ]
    },
    {
      "cell_type": "code",
      "source": [
        "#basic distrbutions of test_df\n",
        "test_df.describe()"
      ],
      "metadata": {
        "colab": {
          "base_uri": "https://localhost:8080/",
          "height": 300
        },
        "id": "io3Pd2G_v8OB",
        "outputId": "595d688b-d56a-432c-ddc5-ff2ef2bb539c"
      },
      "execution_count": null,
      "outputs": [
        {
          "output_type": "execute_result",
          "data": {
            "text/plain": [
              "       PassengerId      Pclass         Age       SibSp       Parch        Fare\n",
              "count   418.000000  418.000000  332.000000  418.000000  418.000000  417.000000\n",
              "mean   1100.500000    2.265550   30.272590    0.447368    0.392344   35.627188\n",
              "std     120.810458    0.841838   14.181209    0.896760    0.981429   55.907576\n",
              "min     892.000000    1.000000    0.170000    0.000000    0.000000    0.000000\n",
              "25%     996.250000    1.000000   21.000000    0.000000    0.000000    7.895800\n",
              "50%    1100.500000    3.000000   27.000000    0.000000    0.000000   14.454200\n",
              "75%    1204.750000    3.000000   39.000000    1.000000    0.000000   31.500000\n",
              "max    1309.000000    3.000000   76.000000    8.000000    9.000000  512.329200"
            ],
            "text/html": [
              "\n",
              "  <div id=\"df-e050f7b3-3d0e-4330-85dc-12e6406d2b55\" class=\"colab-df-container\">\n",
              "    <div>\n",
              "<style scoped>\n",
              "    .dataframe tbody tr th:only-of-type {\n",
              "        vertical-align: middle;\n",
              "    }\n",
              "\n",
              "    .dataframe tbody tr th {\n",
              "        vertical-align: top;\n",
              "    }\n",
              "\n",
              "    .dataframe thead th {\n",
              "        text-align: right;\n",
              "    }\n",
              "</style>\n",
              "<table border=\"1\" class=\"dataframe\">\n",
              "  <thead>\n",
              "    <tr style=\"text-align: right;\">\n",
              "      <th></th>\n",
              "      <th>PassengerId</th>\n",
              "      <th>Pclass</th>\n",
              "      <th>Age</th>\n",
              "      <th>SibSp</th>\n",
              "      <th>Parch</th>\n",
              "      <th>Fare</th>\n",
              "    </tr>\n",
              "  </thead>\n",
              "  <tbody>\n",
              "    <tr>\n",
              "      <th>count</th>\n",
              "      <td>418.000000</td>\n",
              "      <td>418.000000</td>\n",
              "      <td>332.000000</td>\n",
              "      <td>418.000000</td>\n",
              "      <td>418.000000</td>\n",
              "      <td>417.000000</td>\n",
              "    </tr>\n",
              "    <tr>\n",
              "      <th>mean</th>\n",
              "      <td>1100.500000</td>\n",
              "      <td>2.265550</td>\n",
              "      <td>30.272590</td>\n",
              "      <td>0.447368</td>\n",
              "      <td>0.392344</td>\n",
              "      <td>35.627188</td>\n",
              "    </tr>\n",
              "    <tr>\n",
              "      <th>std</th>\n",
              "      <td>120.810458</td>\n",
              "      <td>0.841838</td>\n",
              "      <td>14.181209</td>\n",
              "      <td>0.896760</td>\n",
              "      <td>0.981429</td>\n",
              "      <td>55.907576</td>\n",
              "    </tr>\n",
              "    <tr>\n",
              "      <th>min</th>\n",
              "      <td>892.000000</td>\n",
              "      <td>1.000000</td>\n",
              "      <td>0.170000</td>\n",
              "      <td>0.000000</td>\n",
              "      <td>0.000000</td>\n",
              "      <td>0.000000</td>\n",
              "    </tr>\n",
              "    <tr>\n",
              "      <th>25%</th>\n",
              "      <td>996.250000</td>\n",
              "      <td>1.000000</td>\n",
              "      <td>21.000000</td>\n",
              "      <td>0.000000</td>\n",
              "      <td>0.000000</td>\n",
              "      <td>7.895800</td>\n",
              "    </tr>\n",
              "    <tr>\n",
              "      <th>50%</th>\n",
              "      <td>1100.500000</td>\n",
              "      <td>3.000000</td>\n",
              "      <td>27.000000</td>\n",
              "      <td>0.000000</td>\n",
              "      <td>0.000000</td>\n",
              "      <td>14.454200</td>\n",
              "    </tr>\n",
              "    <tr>\n",
              "      <th>75%</th>\n",
              "      <td>1204.750000</td>\n",
              "      <td>3.000000</td>\n",
              "      <td>39.000000</td>\n",
              "      <td>1.000000</td>\n",
              "      <td>0.000000</td>\n",
              "      <td>31.500000</td>\n",
              "    </tr>\n",
              "    <tr>\n",
              "      <th>max</th>\n",
              "      <td>1309.000000</td>\n",
              "      <td>3.000000</td>\n",
              "      <td>76.000000</td>\n",
              "      <td>8.000000</td>\n",
              "      <td>9.000000</td>\n",
              "      <td>512.329200</td>\n",
              "    </tr>\n",
              "  </tbody>\n",
              "</table>\n",
              "</div>\n",
              "    <div class=\"colab-df-buttons\">\n",
              "\n",
              "  <div class=\"colab-df-container\">\n",
              "    <button class=\"colab-df-convert\" onclick=\"convertToInteractive('df-e050f7b3-3d0e-4330-85dc-12e6406d2b55')\"\n",
              "            title=\"Convert this dataframe to an interactive table.\"\n",
              "            style=\"display:none;\">\n",
              "\n",
              "  <svg xmlns=\"http://www.w3.org/2000/svg\" height=\"24px\" viewBox=\"0 -960 960 960\">\n",
              "    <path d=\"M120-120v-720h720v720H120Zm60-500h600v-160H180v160Zm220 220h160v-160H400v160Zm0 220h160v-160H400v160ZM180-400h160v-160H180v160Zm440 0h160v-160H620v160ZM180-180h160v-160H180v160Zm440 0h160v-160H620v160Z\"/>\n",
              "  </svg>\n",
              "    </button>\n",
              "\n",
              "  <style>\n",
              "    .colab-df-container {\n",
              "      display:flex;\n",
              "      gap: 12px;\n",
              "    }\n",
              "\n",
              "    .colab-df-convert {\n",
              "      background-color: #E8F0FE;\n",
              "      border: none;\n",
              "      border-radius: 50%;\n",
              "      cursor: pointer;\n",
              "      display: none;\n",
              "      fill: #1967D2;\n",
              "      height: 32px;\n",
              "      padding: 0 0 0 0;\n",
              "      width: 32px;\n",
              "    }\n",
              "\n",
              "    .colab-df-convert:hover {\n",
              "      background-color: #E2EBFA;\n",
              "      box-shadow: 0px 1px 2px rgba(60, 64, 67, 0.3), 0px 1px 3px 1px rgba(60, 64, 67, 0.15);\n",
              "      fill: #174EA6;\n",
              "    }\n",
              "\n",
              "    .colab-df-buttons div {\n",
              "      margin-bottom: 4px;\n",
              "    }\n",
              "\n",
              "    [theme=dark] .colab-df-convert {\n",
              "      background-color: #3B4455;\n",
              "      fill: #D2E3FC;\n",
              "    }\n",
              "\n",
              "    [theme=dark] .colab-df-convert:hover {\n",
              "      background-color: #434B5C;\n",
              "      box-shadow: 0px 1px 3px 1px rgba(0, 0, 0, 0.15);\n",
              "      filter: drop-shadow(0px 1px 2px rgba(0, 0, 0, 0.3));\n",
              "      fill: #FFFFFF;\n",
              "    }\n",
              "  </style>\n",
              "\n",
              "    <script>\n",
              "      const buttonEl =\n",
              "        document.querySelector('#df-e050f7b3-3d0e-4330-85dc-12e6406d2b55 button.colab-df-convert');\n",
              "      buttonEl.style.display =\n",
              "        google.colab.kernel.accessAllowed ? 'block' : 'none';\n",
              "\n",
              "      async function convertToInteractive(key) {\n",
              "        const element = document.querySelector('#df-e050f7b3-3d0e-4330-85dc-12e6406d2b55');\n",
              "        const dataTable =\n",
              "          await google.colab.kernel.invokeFunction('convertToInteractive',\n",
              "                                                    [key], {});\n",
              "        if (!dataTable) return;\n",
              "\n",
              "        const docLinkHtml = 'Like what you see? Visit the ' +\n",
              "          '<a target=\"_blank\" href=https://colab.research.google.com/notebooks/data_table.ipynb>data table notebook</a>'\n",
              "          + ' to learn more about interactive tables.';\n",
              "        element.innerHTML = '';\n",
              "        dataTable['output_type'] = 'display_data';\n",
              "        await google.colab.output.renderOutput(dataTable, element);\n",
              "        const docLink = document.createElement('div');\n",
              "        docLink.innerHTML = docLinkHtml;\n",
              "        element.appendChild(docLink);\n",
              "      }\n",
              "    </script>\n",
              "  </div>\n",
              "\n",
              "\n",
              "<div id=\"df-4fe343f5-2d0e-449d-a7e4-27852e48a8cc\">\n",
              "  <button class=\"colab-df-quickchart\" onclick=\"quickchart('df-4fe343f5-2d0e-449d-a7e4-27852e48a8cc')\"\n",
              "            title=\"Suggest charts.\"\n",
              "            style=\"display:none;\">\n",
              "\n",
              "<svg xmlns=\"http://www.w3.org/2000/svg\" height=\"24px\"viewBox=\"0 0 24 24\"\n",
              "     width=\"24px\">\n",
              "    <g>\n",
              "        <path d=\"M19 3H5c-1.1 0-2 .9-2 2v14c0 1.1.9 2 2 2h14c1.1 0 2-.9 2-2V5c0-1.1-.9-2-2-2zM9 17H7v-7h2v7zm4 0h-2V7h2v10zm4 0h-2v-4h2v4z\"/>\n",
              "    </g>\n",
              "</svg>\n",
              "  </button>\n",
              "\n",
              "<style>\n",
              "  .colab-df-quickchart {\n",
              "      --bg-color: #E8F0FE;\n",
              "      --fill-color: #1967D2;\n",
              "      --hover-bg-color: #E2EBFA;\n",
              "      --hover-fill-color: #174EA6;\n",
              "      --disabled-fill-color: #AAA;\n",
              "      --disabled-bg-color: #DDD;\n",
              "  }\n",
              "\n",
              "  [theme=dark] .colab-df-quickchart {\n",
              "      --bg-color: #3B4455;\n",
              "      --fill-color: #D2E3FC;\n",
              "      --hover-bg-color: #434B5C;\n",
              "      --hover-fill-color: #FFFFFF;\n",
              "      --disabled-bg-color: #3B4455;\n",
              "      --disabled-fill-color: #666;\n",
              "  }\n",
              "\n",
              "  .colab-df-quickchart {\n",
              "    background-color: var(--bg-color);\n",
              "    border: none;\n",
              "    border-radius: 50%;\n",
              "    cursor: pointer;\n",
              "    display: none;\n",
              "    fill: var(--fill-color);\n",
              "    height: 32px;\n",
              "    padding: 0;\n",
              "    width: 32px;\n",
              "  }\n",
              "\n",
              "  .colab-df-quickchart:hover {\n",
              "    background-color: var(--hover-bg-color);\n",
              "    box-shadow: 0 1px 2px rgba(60, 64, 67, 0.3), 0 1px 3px 1px rgba(60, 64, 67, 0.15);\n",
              "    fill: var(--button-hover-fill-color);\n",
              "  }\n",
              "\n",
              "  .colab-df-quickchart-complete:disabled,\n",
              "  .colab-df-quickchart-complete:disabled:hover {\n",
              "    background-color: var(--disabled-bg-color);\n",
              "    fill: var(--disabled-fill-color);\n",
              "    box-shadow: none;\n",
              "  }\n",
              "\n",
              "  .colab-df-spinner {\n",
              "    border: 2px solid var(--fill-color);\n",
              "    border-color: transparent;\n",
              "    border-bottom-color: var(--fill-color);\n",
              "    animation:\n",
              "      spin 1s steps(1) infinite;\n",
              "  }\n",
              "\n",
              "  @keyframes spin {\n",
              "    0% {\n",
              "      border-color: transparent;\n",
              "      border-bottom-color: var(--fill-color);\n",
              "      border-left-color: var(--fill-color);\n",
              "    }\n",
              "    20% {\n",
              "      border-color: transparent;\n",
              "      border-left-color: var(--fill-color);\n",
              "      border-top-color: var(--fill-color);\n",
              "    }\n",
              "    30% {\n",
              "      border-color: transparent;\n",
              "      border-left-color: var(--fill-color);\n",
              "      border-top-color: var(--fill-color);\n",
              "      border-right-color: var(--fill-color);\n",
              "    }\n",
              "    40% {\n",
              "      border-color: transparent;\n",
              "      border-right-color: var(--fill-color);\n",
              "      border-top-color: var(--fill-color);\n",
              "    }\n",
              "    60% {\n",
              "      border-color: transparent;\n",
              "      border-right-color: var(--fill-color);\n",
              "    }\n",
              "    80% {\n",
              "      border-color: transparent;\n",
              "      border-right-color: var(--fill-color);\n",
              "      border-bottom-color: var(--fill-color);\n",
              "    }\n",
              "    90% {\n",
              "      border-color: transparent;\n",
              "      border-bottom-color: var(--fill-color);\n",
              "    }\n",
              "  }\n",
              "</style>\n",
              "\n",
              "  <script>\n",
              "    async function quickchart(key) {\n",
              "      const quickchartButtonEl =\n",
              "        document.querySelector('#' + key + ' button');\n",
              "      quickchartButtonEl.disabled = true;  // To prevent multiple clicks.\n",
              "      quickchartButtonEl.classList.add('colab-df-spinner');\n",
              "      try {\n",
              "        const charts = await google.colab.kernel.invokeFunction(\n",
              "            'suggestCharts', [key], {});\n",
              "      } catch (error) {\n",
              "        console.error('Error during call to suggestCharts:', error);\n",
              "      }\n",
              "      quickchartButtonEl.classList.remove('colab-df-spinner');\n",
              "      quickchartButtonEl.classList.add('colab-df-quickchart-complete');\n",
              "    }\n",
              "    (() => {\n",
              "      let quickchartButtonEl =\n",
              "        document.querySelector('#df-4fe343f5-2d0e-449d-a7e4-27852e48a8cc button');\n",
              "      quickchartButtonEl.style.display =\n",
              "        google.colab.kernel.accessAllowed ? 'block' : 'none';\n",
              "    })();\n",
              "  </script>\n",
              "</div>\n",
              "    </div>\n",
              "  </div>\n"
            ]
          },
          "metadata": {},
          "execution_count": 17
        }
      ]
    },
    {
      "cell_type": "markdown",
      "source": [
        "Age"
      ],
      "metadata": {
        "id": "HhzEqJjowKok"
      }
    },
    {
      "cell_type": "code",
      "source": [
        "#Survived and age\n",
        "sns.boxplot(x=dependent_variable, y='Age', data=train_df).set(title='Survived and Age')\n",
        "plt.show()"
      ],
      "metadata": {
        "colab": {
          "base_uri": "https://localhost:8080/",
          "height": 472
        },
        "id": "WzFG5j4zwHE5",
        "outputId": "d13eb5a5-8e14-47b0-f849-c76eff7d51ef"
      },
      "execution_count": null,
      "outputs": [
        {
          "output_type": "display_data",
          "data": {
            "text/plain": [
              "<Figure size 640x480 with 1 Axes>"
            ],
            "image/png": "[encoded data removed]"
          },
          "metadata": {}
        }
      ]
    },
    {
      "cell_type": "code",
      "source": [
        "#Pclass and age\n",
        "sns.boxplot(x='Pclass', y='Age', data=train_df).set(title='Pclass and Age')\n",
        "plt.show()"
      ],
      "metadata": {
        "colab": {
          "base_uri": "https://localhost:8080/",
          "height": 472
        },
        "id": "NPgAgZt8wi-p",
        "outputId": "9825d1f4-3ad2-4c7a-ad0e-e6f8a780a3d1"
      },
      "execution_count": null,
      "outputs": [
        {
          "output_type": "display_data",
          "data": {
            "text/plain": [
              "<Figure size 640x480 with 1 Axes>"
            ],
            "image/png": "[encoded data removed]"
          },
          "metadata": {}
        }
      ]
    },
    {
      "cell_type": "markdown",
      "source": [
        "1st class is older than second class which is older than 3rd class on average. Second class has fewer children."
      ],
      "metadata": {
        "id": "dxKW5UbrxQdw"
      }
    },
    {
      "cell_type": "code",
      "source": [
        "#Sex and Age\n",
        "sns.boxplot(x='Sex', y='Age', data=train_df).set(title='Sex and Age')\n",
        "plt.show()"
      ],
      "metadata": {
        "colab": {
          "base_uri": "https://localhost:8080/",
          "height": 472
        },
        "id": "5piU1I8TxNvY",
        "outputId": "17640545-bbea-4edc-d247-9425b1587af0"
      },
      "execution_count": null,
      "outputs": [
        {
          "output_type": "display_data",
          "data": {
            "text/plain": [
              "<Figure size 640x480 with 1 Axes>"
            ],
            "image/png": "[encoded data removed]"
          },
          "metadata": {}
        }
      ]
    },
    {
      "cell_type": "markdown",
      "source": [
        "Men were slightly older in general and had all the elderly individuals"
      ],
      "metadata": {
        "id": "rKZZnL_Txsrn"
      }
    },
    {
      "cell_type": "markdown",
      "source": [
        "**Data Preparation**"
      ],
      "metadata": {
        "id": "jQBC3AoFyFDh"
      }
    },
    {
      "cell_type": "code",
      "source": [
        "train_df.info()"
      ],
      "metadata": {
        "colab": {
          "base_uri": "https://localhost:8080/"
        },
        "id": "aV2j51yaxscx",
        "outputId": "9db99cdf-f922-4ef9-b88b-6cf712daba68"
      },
      "execution_count": null,
      "outputs": [
        {
          "output_type": "stream",
          "name": "stdout",
          "text": [
            "<class 'pandas.core.frame.DataFrame'>\n",
            "RangeIndex: 891 entries, 0 to 890\n",
            "Data columns (total 12 columns):\n",
            " #   Column       Non-Null Count  Dtype  \n",
            "---  ------       --------------  -----  \n",
            " 0   PassengerId  891 non-null    int64  \n",
            " 1   Survived     891 non-null    int64  \n",
            " 2   Pclass       891 non-null    int64  \n",
            " 3   Name         891 non-null    object \n",
            " 4   Sex          891 non-null    object \n",
            " 5   Age          714 non-null    float64\n",
            " 6   SibSp        891 non-null    int64  \n",
            " 7   Parch        891 non-null    int64  \n",
            " 8   Ticket       891 non-null    object \n",
            " 9   Fare         891 non-null    float64\n",
            " 10  Cabin        204 non-null    object \n",
            " 11  Embarked     889 non-null    object \n",
            "dtypes: float64(2), int64(5), object(5)\n",
            "memory usage: 83.7+ KB\n"
          ]
        }
      ]
    },
    {
      "cell_type": "code",
      "source": [
        "test_df.info()"
      ],
      "metadata": {
        "colab": {
          "base_uri": "https://localhost:8080/"
        },
        "id": "hS2-hvgFyRaB",
        "outputId": "c30bea01-b823-4137-ed27-669a4d2d71ba"
      },
      "execution_count": null,
      "outputs": [
        {
          "output_type": "stream",
          "name": "stdout",
          "text": [
            "<class 'pandas.core.frame.DataFrame'>\n",
            "RangeIndex: 418 entries, 0 to 417\n",
            "Data columns (total 11 columns):\n",
            " #   Column       Non-Null Count  Dtype  \n",
            "---  ------       --------------  -----  \n",
            " 0   PassengerId  418 non-null    int64  \n",
            " 1   Pclass       418 non-null    int64  \n",
            " 2   Name         418 non-null    object \n",
            " 3   Sex          418 non-null    object \n",
            " 4   Age          332 non-null    float64\n",
            " 5   SibSp        418 non-null    int64  \n",
            " 6   Parch        418 non-null    int64  \n",
            " 7   Ticket       418 non-null    object \n",
            " 8   Fare         417 non-null    float64\n",
            " 9   Cabin        91 non-null     object \n",
            " 10  Embarked     418 non-null    object \n",
            "dtypes: float64(2), int64(4), object(5)\n",
            "memory usage: 36.0+ KB\n"
          ]
        }
      ]
    },
    {
      "cell_type": "markdown",
      "source": [
        "**Null Imputation**\n",
        "\n",
        "Categorical columns with nulls\n",
        "\n",
        "\n",
        "\n",
        "*   Cabin (train and test)\n",
        "*   Embarked (train)\n",
        "\n",
        "Numerical columns with nulls\n",
        "\n",
        "\n",
        "\n",
        "*  Age (train and test)\n",
        "*  Fare (test)\n",
        "\n",
        "\n"
      ],
      "metadata": {
        "id": "FkvOZ7h6zj80"
      }
    },
    {
      "cell_type": "code",
      "source": [
        "#Cabin impute using 'NA'\n",
        "train_df['Cabin']=train_df['Cabin'].fillna('NA')\n",
        "test_df['Cabin']=test_df['Cabin'].fillna('NA')"
      ],
      "metadata": {
        "id": "yY92mgaTzjpU"
      },
      "execution_count": null,
      "outputs": []
    },
    {
      "cell_type": "code",
      "source": [
        "#Embarked impute using mode\n",
        "train_df['Embarked'] = train_df['Embarked'].fillna(train_df['Embarked'].mode()[0])"
      ],
      "metadata": {
        "id": "5yHI7cVC1luT"
      },
      "execution_count": null,
      "outputs": []
    },
    {
      "cell_type": "code",
      "source": [
        "#checking Age for distribution and outliers\n",
        "sns.boxplot(x='Age', data=train_df).set(title='Age Distribution')\n",
        "plt.show()"
      ],
      "metadata": {
        "colab": {
          "base_uri": "https://localhost:8080/",
          "height": 472
        },
        "id": "UmiCakHT2AiQ",
        "outputId": "ca055f8a-7642-4840-ea90-d1f565c64e63"
      },
      "execution_count": null,
      "outputs": [
        {
          "output_type": "display_data",
          "data": {
            "text/plain": [
              "<Figure size 640x480 with 1 Axes>"
            ],
            "image/png": "[encoded data removed]"
          },
          "metadata": {}
        }
      ]
    },
    {
      "cell_type": "code",
      "source": [
        "#checking fare for distribution and outliers\n",
        "sns.boxplot(x='Fare', data=train_df).set(title='Fare Distribution')\n",
        "plt.show()"
      ],
      "metadata": {
        "colab": {
          "base_uri": "https://localhost:8080/",
          "height": 472
        },
        "id": "Gor6F9ZB2VTl",
        "outputId": "ded31db7-05e9-4f3a-adc3-8b8c8c44b4c0"
      },
      "execution_count": null,
      "outputs": [
        {
          "output_type": "display_data",
          "data": {
            "text/plain": [
              "<Figure size 640x480 with 1 Axes>"
            ],
            "image/png": "[encoded data removed]"
          },
          "metadata": {}
        }
      ]
    },
    {
      "cell_type": "markdown",
      "source": [
        "Age is relatively symmetrical and that Fare is right skewed. I will use mean imputation for Age and median imputation for Fare."
      ],
      "metadata": {
        "id": "BWNkmTm92wlz"
      }
    },
    {
      "cell_type": "code",
      "source": [
        "#Age impute\n",
        "train_age_name = train_df['Age'].mean()\n",
        "train_df['Age'] = train_df['Age'].fillna(train_age_name)\n",
        "test_df['Age'] = test_df['Age'].fillna(train_age_name)"
      ],
      "metadata": {
        "id": "NMCjQZWK2pHN"
      },
      "execution_count": null,
      "outputs": []
    },
    {
      "cell_type": "code",
      "source": [
        "#Fare impute\n",
        "train_fare_median = train_df['Fare'].median()\n",
        "test_df['Fare'] = test_df['Fare'].fillna(train_fare_median)"
      ],
      "metadata": {
        "id": "w0yWHalN3s4d"
      },
      "execution_count": null,
      "outputs": []
    },
    {
      "cell_type": "markdown",
      "source": [
        "Note: I use attributes from the train dataset in order to impute for the test dataset."
      ],
      "metadata": {
        "id": "X45uJ1M64Zc_"
      }
    },
    {
      "cell_type": "code",
      "source": [
        "#conform the imputation worked\n",
        "train_df.info()"
      ],
      "metadata": {
        "colab": {
          "base_uri": "https://localhost:8080/"
        },
        "id": "QTcpvrlT4aU8",
        "outputId": "448d439a-127f-4bf6-91ca-f8202dfb641c"
      },
      "execution_count": null,
      "outputs": [
        {
          "output_type": "stream",
          "name": "stdout",
          "text": [
            "<class 'pandas.core.frame.DataFrame'>\n",
            "RangeIndex: 891 entries, 0 to 890\n",
            "Data columns (total 12 columns):\n",
            " #   Column       Non-Null Count  Dtype  \n",
            "---  ------       --------------  -----  \n",
            " 0   PassengerId  891 non-null    int64  \n",
            " 1   Survived     891 non-null    int64  \n",
            " 2   Pclass       891 non-null    int64  \n",
            " 3   Name         891 non-null    object \n",
            " 4   Sex          891 non-null    object \n",
            " 5   Age          891 non-null    float64\n",
            " 6   SibSp        891 non-null    int64  \n",
            " 7   Parch        891 non-null    int64  \n",
            " 8   Ticket       891 non-null    object \n",
            " 9   Fare         891 non-null    float64\n",
            " 10  Cabin        891 non-null    object \n",
            " 11  Embarked     891 non-null    object \n",
            "dtypes: float64(2), int64(5), object(5)\n",
            "memory usage: 83.7+ KB\n"
          ]
        }
      ]
    },
    {
      "cell_type": "code",
      "source": [
        "#confrom the imputation worked\n",
        "test_df.info()"
      ],
      "metadata": {
        "colab": {
          "base_uri": "https://localhost:8080/"
        },
        "id": "SCuB_XJm4qcG",
        "outputId": "000f21be-d018-46e6-fcfd-43fcab9bb05e"
      },
      "execution_count": null,
      "outputs": [
        {
          "output_type": "stream",
          "name": "stdout",
          "text": [
            "<class 'pandas.core.frame.DataFrame'>\n",
            "RangeIndex: 418 entries, 0 to 417\n",
            "Data columns (total 11 columns):\n",
            " #   Column       Non-Null Count  Dtype  \n",
            "---  ------       --------------  -----  \n",
            " 0   PassengerId  418 non-null    int64  \n",
            " 1   Pclass       418 non-null    int64  \n",
            " 2   Name         418 non-null    object \n",
            " 3   Sex          418 non-null    object \n",
            " 4   Age          418 non-null    float64\n",
            " 5   SibSp        418 non-null    int64  \n",
            " 6   Parch        418 non-null    int64  \n",
            " 7   Ticket       418 non-null    object \n",
            " 8   Fare         418 non-null    float64\n",
            " 9   Cabin        418 non-null    object \n",
            " 10  Embarked     418 non-null    object \n",
            "dtypes: float64(2), int64(4), object(5)\n",
            "memory usage: 36.0+ KB\n"
          ]
        }
      ]
    },
    {
      "cell_type": "markdown",
      "source": [
        "**There are no more null values in either dataset.**"
      ],
      "metadata": {
        "id": "IH1PDBv040Qs"
      }
    },
    {
      "cell_type": "markdown",
      "source": [
        "**Feature Engineering**"
      ],
      "metadata": {
        "id": "3riP_4GG43EL"
      }
    },
    {
      "cell_type": "markdown",
      "source": [
        "Age Bucket\n",
        "Bucket Age into 'baby', 'child', 'adult', and 'elderly'"
      ],
      "metadata": {
        "id": "22L_BqPg45A3"
      }
    },
    {
      "cell_type": "code",
      "source": [
        "#age_bucket\n",
        "age_bins = [0, 18, 65, 100]\n",
        "age_labels = ['child', 'adult', 'elderly']\n",
        "\n",
        "train_df['age_bucket'] = pd.cut(x=train_df['Age'], bins=age_bins, labels=age_labels).astype('object')\n",
        "\n",
        "test_df['age_bucket'] = pd.cut(x=test_df['Age'], bins=age_bins, labels=age_labels).astype('object')"
      ],
      "metadata": {
        "id": "XrUy2nKL42oh"
      },
      "execution_count": null,
      "outputs": []
    },
    {
      "cell_type": "code",
      "source": [
        "#ship_location and survived\n",
        "sns.catplot(x='age_bucket', hue=dependent_variable, data=train_df, kind='count').set(title='age_bucket and Survived')\n",
        "plt.show()"
      ],
      "metadata": {
        "colab": {
          "base_uri": "https://localhost:8080/",
          "height": 529
        },
        "id": "lOuzXTm66bXc",
        "outputId": "9c3238d9-5ed5-4aba-836f-9e5486786443"
      },
      "execution_count": null,
      "outputs": [
        {
          "output_type": "display_data",
          "data": {
            "text/plain": [
              "<Figure size 572.111x500 with 1 Axes>"
            ],
            "image/png": "[encoded data removed]"
          },
          "metadata": {}
        }
      ]
    },
    {
      "cell_type": "markdown",
      "source": [
        "Being either a child or elderly appears to improve survival rate."
      ],
      "metadata": {
        "id": "Qv7b6SSb7Nao"
      }
    },
    {
      "cell_type": "markdown",
      "source": [
        "**Role**\n",
        "\n",
        "I noticed in examining the data that certain names have titles (Mr, Ms, Don, Capt, etc.) and I want to bucket these into roles."
      ],
      "metadata": {
        "id": "rCta5FES8P-v"
      }
    },
    {
      "cell_type": "code",
      "source": [
        "# extract titles\n",
        "train_df[['last_name','intermediate']] = train_df['Name'].str.split(', ', expand=True)\n",
        "train_df[['title','first_name']] = train_df['intermediate'].str.split('.', 1, expand=True)\n",
        "\n",
        "test_df[['last_name','intermediate']] = test_df['Name'].str.split(', ', expand=True)\n",
        "test_df[['title','first_name']] = test_df['intermediate'].str.split('.', 1, expand=True)\n",
        "\n",
        "# name length as a proxy for role importance\n",
        "train_df['name_length'] = train_df['Name'].str.len()\n",
        "test_df['name_length'] = test_df['Name'].str.len()"
      ],
      "metadata": {
        "id": "uDC2Pbmn7Evz"
      },
      "execution_count": null,
      "outputs": []
    },
    {
      "cell_type": "code",
      "source": [
        "# unique last names\n",
        "train_last_name_set = set(train_df['last_name'].tolist())\n",
        "test_last_name_set = set(test_df['last_name'].tolist())\n",
        "last_name_sorted = sorted(train_last_name_set.union(test_last_name_set))\n",
        "last_name_intersect = train_last_name_set.intersection(test_last_name_set)\n",
        "\n",
        "print(last_name_sorted)\n",
        "\n",
        "print(\"Number of unique last names:\", len(last_name_sorted))\n",
        "print(\"Number of shared last names:\", len(last_name_intersect))\n",
        "print(\"Number of records:\", len(train_df) + len(test_df))"
      ],
      "metadata": {
        "colab": {
          "base_uri": "https://localhost:8080/"
        },
        "id": "op1lCVWzAjkf",
        "outputId": "0eb99bc4-0126-4bdb-efe6-010631154821"
      },
      "execution_count": null,
      "outputs": [
        {
          "output_type": "stream",
          "name": "stdout",
          "text": [
            "['Abbing', 'Abbott', 'Abelseth', 'Abelson', 'Abrahamsson', 'Abrahim', 'Adahl', 'Adams', 'Ahlin', 'Aks', 'Albimona', 'Aldworth', 'Alexander', 'Alhomaki', 'Ali', 'Allen', 'Allison', 'Allum', 'Andersen', 'Andersen-Jensen', 'Anderson', 'Andersson', 'Andreasson', 'Andrew', 'Andrews', 'Angheloff', 'Angle', 'Appleton', 'Arnold-Franchi', 'Aronsson', 'Artagaveytia', 'Ashby', 'Asim', 'Asplund', 'Assaf', 'Assaf Khalil', 'Assam', 'Astor', 'Attalah', 'Aubart', 'Augustsson', 'Ayoub', 'Baccos', 'Backstrom', 'Baclini', 'Badman', 'Badt', 'Bailey', 'Baimbrigge', 'Balkic', 'Ball', 'Banfield', 'Barah', 'Barbara', 'Barber', 'Barkworth', 'Barry', 'Barton', 'Bateman', 'Baumann', 'Baxter', 'Bazzani', 'Beane', 'Beattie', 'Beauchamp', 'Beavan', 'Becker', 'Beckwith', 'Beesley', 'Behr', 'Bengtsson', 'Bentham', 'Berglund', 'Berriman', 'Betros', 'Bidois', 'Bing', 'Bird', 'Birkeland', 'Birnbaum', 'Bishop', 'Bissette', 'Bjorklund', 'Bjornstrom-Steffansson', 'Blackwell', 'Blank', 'Bonnell', 'Borebank', 'Bostandyeff', 'Botsford', 'Boulos', 'Bourke', 'Bowen', 'Bowenur', 'Bowerman', 'Bracken', 'Bradley', 'Brady', 'Braf', 'Brandeis', 'Braund', 'Brewe', 'Brobeck', 'Brocklebank', 'Brown', 'Bryhl', 'Buckley', 'Bucknell', 'Burke', 'Burns', 'Buss', 'Butler', 'Butt', 'Byles', 'Bystrom', 'Cacic', 'Cairns', 'Calderhead', 'Caldwell', 'Calic', 'Cameron', 'Campbell', 'Canavan', 'Candee', 'Cann', 'Caram', 'Carbines', 'Cardeza', 'Carlsson', 'Carr', 'Carrau', 'Carter', 'Carver', 'Case', 'Cassebeer', 'Cavendish', 'Celotti', 'Chaffee', 'Chambers', 'Chapman', 'Charters', 'Chaudanson', 'Cherry', 'Chevre', 'Chibnall', 'Chip', 'Chisholm', 'Christmann', 'Christy', 'Chronopoulos', 'Clark', 'Clarke', 'Cleaver', 'Clifford', 'Coelho', 'Cohen', 'Colbert', 'Coleff', 'Coleridge', 'Collander', 'Collett', 'Colley', 'Collyer', 'Compton', 'Conlon', 'Connaghton', 'Connolly', 'Connors', 'Cook', 'Cor', 'Corbett', 'Corey', 'Corn', 'Cornell', 'Cotterill', 'Coutts', 'Coxon', 'Crafton', 'Crease', 'Cribb', 'Crosby', 'Culumovic', 'Cumings', 'Cunningham', 'Daher', 'Dahl', 'Dahlberg', 'Dakic', 'Daly', 'Danbom', 'Daniel', 'Daniels', 'Danoff', 'Dantcheff', 'Davidson', 'Davies', 'Davis', 'Davison', 'Deacon', 'Dean', 'Delalic', 'Demetri', 'Denbury', 'Denkoff', 'Dennis', 'Devaney', 'Dibden', 'Dick', 'Dika', 'Dimic', 'Dintcheff', 'Dodge', 'Doharr', 'Doling', 'Dooley', 'Dorking', 'Douglas', 'Dowdell', 'Downton', 'Doyle', 'Drapkin', 'Drazenoic', 'Drew', 'Duane', 'Duff Gordon', 'Dulles', 'Duquemin', 'Duran y More', 'Dyker', 'Earnshaw', 'Edvardsson', 'Eitemiller', 'Eklund', 'Ekstrom', 'Elias', 'Elsbury', 'Emanuel', 'Emir', 'Enander', 'Endres', 'Eustis', 'Evans', 'Everett', 'Fahlstrom', 'Farrell', 'Farthing', 'Faunthorpe', 'Fillbrook', 'Finoli', 'Fischer', 'Flegenheim', 'Fleming', 'Flynn', 'Foley', 'Foo', 'Ford', 'Foreman', 'Fortune', 'Fox', 'Francatelli', 'Franklin', 'Frauenthal', 'Frolicher', 'Frolicher-Stehli', 'Frost', 'Fry', 'Funk', 'Futrelle', 'Fynney', 'Gale', 'Gallagher', 'Garfirth', 'Garside', 'Gaskell', 'Gavey', 'Gee', 'Geiger', 'Gheorgheff', 'Gibson', 'Giglio', 'Gilbert', 'Giles', 'Gilinski', 'Gill', 'Gillespie', 'Gilnagh', 'Givard', 'Glynn', 'Goldenberg', 'Goldschmidt', 'Goldsmith', 'Goncalves', 'Goodwin', 'Gracie', 'Graham', 'Green', 'Greenberg', 'Greenfield', 'Gronnestad', 'Guest', 'Guggenheim', 'Gustafsson', 'Haas', 'Hagardon', 'Hagland', 'Hakkarainen', 'Hale', 'Hamalainen', 'Hampe', 'Hanna', 'Hansen', 'Harbeck', 'Harder', 'Harknett', 'Harmer', 'Harper', 'Harrington', 'Harris', 'Harrison', 'Hart', 'Hassab', 'Hassan', 'Hawksford', 'Hays', 'Head', 'Healy', 'Hedman', 'Hee', 'Hegarty', 'Heikkinen', 'Heininen', 'Hellstrom', 'Hendekovic', 'Henriksson', 'Henry', 'Herman', 'Hewlett', 'Hickman', 'Hilliard', 'Hiltunen', 'Hipkins', 'Hippach', 'Hirvonen', 'Hocking', 'Hodges', 'Hogeboom', 'Hold', 'Holm', 'Holthen', 'Holverson', 'Homer', 'Honkanen', 'Hood', 'Horgan', 'Hosono', 'Howard', 'Hoyt', 'Humblen', 'Hunt', 'Hyman', 'Ibrahim Shawah', 'Icard', 'Ilett', 'Ilieff', 'Ilmakangas', 'Isham', 'Ismay', 'Ivanoff', 'Jacobsohn', 'Jalsevac', 'Jansson', 'Jardin', 'Jarvis', 'Jefferys', 'Jenkin', 'Jensen', 'Jermyn', 'Jerwan', 'Johannesen-Bratthammer', 'Johanson', 'Johansson', 'Johansson Palmquist', 'Johnson', 'Johnston', 'Jones', 'Jonkoff', 'Jonsson', 'Julian', 'Jussila', 'Kallio', 'Kalvik', 'Kantor', 'Karaic', 'Karlsson', 'Karnes', 'Karun', 'Kassem', 'Katavelas', 'Keane', 'Keefe', 'Keeping', 'Kelly', 'Kennedy', 'Kent', 'Kenyon', 'Khalil', 'Kiernan', 'Kilgannon', 'Kimball', 'Kink', 'Kink-Heilmann', 'Kirkland', 'Klaber', 'Klasen', 'Knight', 'Kraeff', 'Krekorian', 'Kreuchen', 'Kvillner', 'Lahoud', 'Lahtinen', 'Laitinen', 'Laleff', 'Lam', 'Lamb', 'Landergren', 'Lane', 'Lang', 'Laroche', 'Larsson', 'Larsson-Rondberg', 'LeRoy', 'Leader', 'Leeni', 'Lefebre', 'Lehmann', 'Leinonen', 'Leitch', 'Lemberopolous', 'Lemore', 'Lennon', 'Leonard', 'Lester', 'Lesurer', 'Levy', 'Lewy', 'Leyson', 'Lievens', 'Lindahl', 'Lindblom', 'Lindeberg-Lind', 'Lindell', 'Lindqvist', 'Lindstrom', 'Linehan', 'Lines', 'Ling', 'Lingane', 'Lithman', 'Lobb', 'Lockyer', 'Long', 'Longley', 'Loring', 'Louch', 'Lovell', 'Lulic', 'Lundahl', 'Lundin', 'Lundstrom', 'Lurette', 'Lyntakoff', 'MacKay', 'Mack', 'Madigan', 'Madill', 'Madsen', 'Maenpaa', 'Maguire', 'Mahon', 'Maioni', 'Maisner', 'Makinen', 'Malachard', 'Mallet', 'Mamee', 'Mangan', 'Mangiavacchi', 'Mannion', 'Mardirosian', 'Marechal', 'Markoff', 'Markun', 'Marvin', 'Masselmani', 'Matinoff', 'Matthews', 'Maybery', 'Mayne', 'McCaffry', 'McCarthy', 'McCormack', 'McCoy', 'McCrae', 'McCrie', 'McDermott', 'McEvoy', 'McGough', 'McGovern', 'McGowan', 'McKane', 'McMahon', 'McNamee', 'McNeill', 'Meanwell', 'Meek', 'Mellinger', 'Mellors', 'Meo', 'Mernagh', 'Meyer', 'Midtsjo', 'Miles', 'Millet', 'Milling', 'Minahan', 'Mineff', 'Minkoff', 'Mionoff', 'Mitchell', 'Mitkoff', 'Mock', 'Mockler', 'Moen', 'Molson', 'Montvila', 'Moor', 'Moore', 'Moran', 'Moraweck', 'Morley', 'Morrow', 'Moss', 'Moubarek', 'Moussa', 'Moutal', 'Mudd', 'Mullens', 'Mulvihill', 'Murdlin', 'Murphy', 'Myhrman', 'Myles', 'Naidenoff', 'Najib', 'Nakid', 'Nancarrow', 'Nankoff', 'Nasr', 'Nasser', 'Natsch', 'Naughton', 'Navratil', 'Nenkoff', 'Nesson', 'Newell', 'Newsom', 'Nicholls', 'Nicholson', 'Nicola-Yarred', 'Nieminen', 'Niklasson', 'Nilsson', 'Nirva', 'Niskanen', 'Norman', 'Nosworthy', 'Nourney', 'Novel', 'Nye', 'Nysten', 'Nysveen', \"O'Brien\", \"O'Connell\", \"O'Connor\", \"O'Donoghue\", \"O'Driscoll\", \"O'Dwyer\", \"O'Keefe\", \"O'Leary\", \"O'Sullivan\", 'Odahl', 'Ohman', 'Oliva y Ocana', 'Olsen', 'Olsson', 'Olsvigen', 'Omont', 'Oreskovic', 'Osen', 'Osman', 'Ostby', 'Otter', 'Ovies y Rodriguez', 'Oxenham', 'Padro y Manent', 'Pain', 'Pallas y Castello', 'Palsson', 'Panula', 'Parker', 'Parkes', 'Parr', 'Parrish', 'Partner', 'Pasic', 'Patchett', 'Paulner', 'Pavlovic', 'Payne', 'Peacock', 'Pearce', 'Pears', 'Pedersen', 'Peduzzi', 'Pekoniemi', 'Peltomaki', 'Penasco y Castellana', 'Pengelly', 'Perkin', 'Pernot', 'Perreault', 'Persson', 'Peruschitz', 'Peter', 'Peters', 'Petersen', 'Petranec', 'Petroff', 'Petterson', 'Pettersson', 'Peuchen', 'Phillips', 'Pickard', 'Pinsky', 'Plotcharsky', 'Pokrnic', 'Ponesell', 'Portaluppi', 'Porter', 'Potter', 'Pulbaum', 'Quick', 'Radeff', 'Rasmussen', 'Razi', 'Reed', 'Reeves', 'Rekic', 'Renouf', 'Reuchlin', 'Reynaldo', 'Reynolds', 'Rheims', 'Rice', 'Richard', 'Richards', 'Ridsdale', 'Riihivouri', 'Ringhini', 'Rintamaki', 'Riordan', 'Risien', 'Robbins', 'Robert', 'Robins', 'Roebling', 'Rogers', 'Romaine', 'Rommetvedt', 'Rood', 'Rosblom', 'Rosenbaum', 'Rosenshine', 'Ross', 'Roth', 'Rothes', 'Rothschild', 'Rouse', 'Rowe', 'Rugg', 'Rush', 'Ryan', 'Ryerson', 'Saad', 'Saade', 'Saalfeld', 'Sadlier', 'Sadowitz', 'Saether', 'Sage', 'Sagesser', 'Salander', 'Salkjelsvik', 'Salomon', 'Salonen', 'Samaan', 'Sandstrom', 'Sap', 'Saundercock', 'Sawyer', 'Scanlan', 'Schabert', 'Schmidt', 'Sdycoff', 'Sedgwick', 'Serepeca', 'Seward', 'Sharp', 'Shaughnessy', 'Sheerlinck', 'Shellard', 'Shelley', 'Shine', 'Shorney', 'Shutes', 'Silven', 'Silverthorne', 'Silvey', 'Simmons', 'Simonius-Blumer', 'Sincock', 'Sinkkonen', 'Sirayanian', 'Sirota', 'Sivic', 'Sivola', 'Sjoblom', 'Sjostedt', 'Skoog', 'Slabenoff', 'Slayter', 'Slemen', 'Slocovski', 'Sloper', 'Smart', 'Smiljanic', 'Smith', 'Smyth', 'Snyder', 'Sobey', 'Soholt', 'Somerton', 'Spector', 'Spedden', 'Spencer', 'Spinner', 'Stahelin-Maeglin', 'Staneff', 'Stankovic', 'Stanley', 'Stanton', 'Stead', 'Stengel', 'Stephenson', 'Stewart', 'Stokes', 'Stone', 'Storey', 'Stoytcheff', 'Strandberg', 'Stranden', 'Straus', 'Strilic', 'Strom', 'Sunderland', 'Sundman', 'Sutehall', 'Sutton', 'Svensson', 'Swane', 'Sweet', 'Swift', 'Taussig', 'Taylor', 'Tenglin', 'Thayer', 'Theobald', 'Thomas', 'Thomson', 'Thorne', 'Thorneycroft', 'Tikkanen', 'Tobin', 'Todoroff', 'Tomlin', 'Toomey', 'Torber', 'Torfa', 'Tornquist', 'Toufik', 'Touma', 'Troupiansky', 'Trout', 'Troutt', 'Tucker', 'Turcin', 'Turja', 'Turkula', 'Turpin', 'Uruchurtu', 'Van Impe', 'Van der hoef', 'Vande Velde', 'Vande Walle', 'Vanden Steen', 'Vander Cruyssen', 'Vander Planke', 'Vartanian', 'Veal', 'Vendel', 'Vestrom', 'Vovk', 'Waelens', 'Walcroft', 'Walker', 'Ward', 'Ware', 'Warren', 'Watson', 'Watt', 'Webber', 'Weir', 'Weisz', 'Wells', 'Wenzel', 'West', 'Whabee', 'Wheadon', 'Wheeler', 'White', 'Wick', 'Widegren', 'Widener', 'Wiklund', 'Wilhelms', 'Wilkes', 'Willard', 'Willer', 'Willey', 'Williams', 'Williams-Lambert', 'Wilson', 'Windelov', 'Wirz', 'Wiseman', 'Wittevrongel', 'Woolner', 'Wright', 'Yasbeck', 'Young', 'Youseff', 'Yousif', 'Yousseff', 'Yrois', 'Zabour', 'Zakarian', 'Zimmerman', 'de Brito', 'de Messemaeker', 'de Mulder', 'de Pelsmaeker', 'del Carlo', 'van Billiard', 'van Melkebeke']\n",
            "Number of unique last names: 875\n",
            "Number of shared last names: 144\n",
            "Number of records: 1309\n"
          ]
        }
      ]
    },
    {
      "cell_type": "markdown",
      "source": [
        "There are 875 last names and 1309 records, therefore some passengers have the same last name. Furthermore, there are 144 last names shared between the training and test sets. We will group by last_name later on to try and extract information."
      ],
      "metadata": {
        "id": "_jGjzgu2AwE5"
      }
    },
    {
      "cell_type": "code",
      "source": [
        "# unique titles\n",
        "train_title_set = set(train_df['title'].tolist())\n",
        "test_title_set = set(test_df['title'].tolist())\n",
        "title_sorted = sorted(train_title_set.union(test_title_set))\n",
        "\n",
        "print(title_sorted)"
      ],
      "metadata": {
        "colab": {
          "base_uri": "https://localhost:8080/"
        },
        "id": "Vpu_QIIdAw3n",
        "outputId": "b7e74301-066b-47ec-9ba8-912ec579a263"
      },
      "execution_count": null,
      "outputs": [
        {
          "output_type": "stream",
          "name": "stdout",
          "text": [
            "['Capt', 'Col', 'Don', 'Dona', 'Dr', 'Jonkheer', 'Lady', 'Major', 'Master', 'Miss', 'Mlle', 'Mme', 'Mr', 'Mrs', 'Ms', 'Rev', 'Sir', 'the Countess']\n"
          ]
        }
      ]
    },
    {
      "cell_type": "code",
      "source": [
        "# assign titles to roles\n",
        "def assign_role(row):\n",
        "    if row['title'] in ['Capt', 'Col', 'Major']:\n",
        "        return 'officer'\n",
        "    elif row['title'] in ['Don', 'Dona', 'Dr', 'Jonkheer', 'Lady', 'Master', 'Rev', 'Sir', 'the Countess']:\n",
        "        return 'important'\n",
        "    elif row['title'] in ['Miss', 'Mlle', 'Mme', 'Mr', 'Mrs', 'Ms']:\n",
        "        return 'average'\n",
        "\n",
        "train_df['role'] = train_df.apply(lambda row: assign_role(row), axis=1)\n",
        "test_df['role'] = test_df.apply(lambda row: assign_role(row), axis=1)"
      ],
      "metadata": {
        "id": "gBOwPESuA54R"
      },
      "execution_count": null,
      "outputs": []
    },
    {
      "cell_type": "code",
      "source": [
        "# role and survived\n",
        "sns.catplot(x='role', hue=dependent_variable, data=train_df, kind='count').set(title='Role and Survived')\n",
        "plt.show()\n"
      ],
      "metadata": {
        "colab": {
          "base_uri": "https://localhost:8080/",
          "height": 529
        },
        "id": "fiBIBmu6A9f8",
        "outputId": "5a8681b5-7214-440d-829f-4a15e575f2c2"
      },
      "execution_count": null,
      "outputs": [
        {
          "output_type": "display_data",
          "data": {
            "text/plain": [
              "<Figure size 572.111x500 with 1 Axes>"
            ],
            "image/png": "[encoded data removed]"
          },
          "metadata": {}
        }
      ]
    },
    {
      "cell_type": "markdown",
      "source": [
        "Both \"important\" and \"officer\" roles appear to improve survival rate."
      ],
      "metadata": {
        "id": "VaBThpMSBBi_"
      }
    },
    {
      "cell_type": "code",
      "source": [
        "# drop intermediate\n",
        "# drop others\n",
        "train_df = train_df.drop(columns=['title', 'intermediate', 'first_name', 'Name'])\n",
        "test_df = test_df.drop(columns=['title', 'intermediate', 'first_name', 'Name'])"
      ],
      "metadata": {
        "id": "PLhPvSvXBCT3"
      },
      "execution_count": null,
      "outputs": []
    },
    {
      "cell_type": "markdown",
      "source": [
        "**Ship Location**\n",
        "\n",
        "Ship location may matter due to proximity to lifeboats and upper deck access.\n",
        "\n",
        "One can refer to the following article for a schematic of the titanic's deck."
      ],
      "metadata": {
        "id": "KEkvzqCXBI29"
      }
    },
    {
      "cell_type": "code",
      "source": [
        "# unique titles from each data set\n",
        "train_set = set(train_df['Cabin'].tolist())\n",
        "test_set = set(test_df['Cabin'].tolist())\n",
        "sorted_set = sorted(train_set.union(test_set))\n",
        "\n",
        "print(sorted_set)\n",
        "\n",
        "print(\"Number of unique cabins:\", len(sorted_set))\n",
        "print(\"Number of records:\", len(train_df) + len(test_df))"
      ],
      "metadata": {
        "colab": {
          "base_uri": "https://localhost:8080/"
        },
        "id": "IFETsRZPBGQv",
        "outputId": "8b20c1b3-6b55-4a04-fd29-72444d872136"
      },
      "execution_count": null,
      "outputs": [
        {
          "output_type": "stream",
          "name": "stdout",
          "text": [
            "['A10', 'A11', 'A14', 'A16', 'A18', 'A19', 'A20', 'A21', 'A23', 'A24', 'A26', 'A29', 'A31', 'A32', 'A34', 'A36', 'A5', 'A6', 'A7', 'A9', 'B10', 'B101', 'B102', 'B11', 'B18', 'B19', 'B20', 'B22', 'B24', 'B26', 'B28', 'B3', 'B30', 'B35', 'B36', 'B37', 'B38', 'B39', 'B4', 'B41', 'B42', 'B45', 'B49', 'B5', 'B50', 'B51 B53 B55', 'B52 B54 B56', 'B57 B59 B63 B66', 'B58 B60', 'B61', 'B69', 'B71', 'B73', 'B77', 'B78', 'B79', 'B80', 'B82 B84', 'B86', 'B94', 'B96 B98', 'C101', 'C103', 'C104', 'C105', 'C106', 'C110', 'C111', 'C116', 'C118', 'C123', 'C124', 'C125', 'C126', 'C128', 'C130', 'C132', 'C148', 'C2', 'C22 C26', 'C23 C25 C27', 'C28', 'C30', 'C31', 'C32', 'C39', 'C45', 'C46', 'C47', 'C49', 'C50', 'C51', 'C52', 'C53', 'C54', 'C55 C57', 'C6', 'C62 C64', 'C65', 'C68', 'C7', 'C70', 'C78', 'C80', 'C82', 'C83', 'C85', 'C86', 'C87', 'C89', 'C90', 'C91', 'C92', 'C93', 'C95', 'C97', 'C99', 'D', 'D10 D12', 'D11', 'D15', 'D17', 'D19', 'D20', 'D21', 'D22', 'D26', 'D28', 'D30', 'D33', 'D34', 'D35', 'D36', 'D37', 'D38', 'D40', 'D43', 'D45', 'D46', 'D47', 'D48', 'D49', 'D50', 'D56', 'D6', 'D7', 'D9', 'E10', 'E101', 'E12', 'E121', 'E17', 'E24', 'E25', 'E31', 'E33', 'E34', 'E36', 'E38', 'E39 E41', 'E40', 'E44', 'E45', 'E46', 'E49', 'E50', 'E52', 'E58', 'E60', 'E63', 'E67', 'E68', 'E77', 'E8', 'F', 'F E46', 'F E57', 'F E69', 'F G63', 'F G73', 'F2', 'F33', 'F38', 'F4', 'G6', 'NA', 'T']\n",
            "Number of unique cabins: 187\n",
            "Number of records: 1309\n"
          ]
        }
      ]
    },
    {
      "cell_type": "markdown",
      "source": [
        "Some passengers have multiple cabins, but they all appear to be in the same general ship_location.\n",
        "\n",
        "There are 187 cabins and 1309 records, therefore some passengers are traveling in the same cabin. We will group by Cabin later on to try and extract information."
      ],
      "metadata": {
        "id": "W__Lp422BUlP"
      }
    },
    {
      "cell_type": "code",
      "source": [
        "# ship_location\n",
        "train_df['ship_location'] = train_df['Cabin'].astype(str).str[0]\n",
        "test_df['ship_location'] = test_df['Cabin'].astype(str).str[0]"
      ],
      "metadata": {
        "id": "dF4D8i8zBUI-"
      },
      "execution_count": null,
      "outputs": []
    },
    {
      "cell_type": "markdown",
      "source": [
        "I want to see if how ship_location relates to survival and Pclass."
      ],
      "metadata": {
        "id": "CMxVchfRBbx9"
      }
    },
    {
      "cell_type": "code",
      "source": [
        "# ship_location and survived\n",
        "sns.catplot(x='ship_location', hue=dependent_variable, data=train_df, kind='count').set(title='ship_location and Survived')\n",
        "plt.show()"
      ],
      "metadata": {
        "colab": {
          "base_uri": "https://localhost:8080/",
          "height": 528
        },
        "id": "73fT0gCoBbLh",
        "outputId": "a701ff65-d231-4681-e797-3f6d31ec6a46"
      },
      "execution_count": null,
      "outputs": [
        {
          "output_type": "display_data",
          "data": {
            "text/plain": [
              "<Figure size 572.111x500 with 1 Axes>"
            ],
            "image/png": "[encoded data removed]"
          },
          "metadata": {}
        }
      ]
    },
    {
      "cell_type": "markdown",
      "source": [
        "Some locations appear to correlate with higher chances of survival.\n",
        "\n",
        "This also makes me think that passenger class correlates with having been assigned a cabin at all."
      ],
      "metadata": {
        "id": "FFllV1TVBizd"
      }
    },
    {
      "cell_type": "code",
      "source": [
        "# ship_location and Pclass\n",
        "sns.catplot(x='ship_location', hue='Pclass', data=train_df, kind='count').set(title='ship_location and Pclass')\n",
        "plt.show()"
      ],
      "metadata": {
        "colab": {
          "base_uri": "https://localhost:8080/",
          "height": 526
        },
        "id": "jwTS5gM1BgYs",
        "outputId": "8f76b920-90bc-4586-dd24-83bec3f5287d"
      },
      "execution_count": null,
      "outputs": [
        {
          "output_type": "display_data",
          "data": {
            "text/plain": [
              "<Figure size 558.875x500 with 1 Axes>"
            ],
            "image/png": "[encoded data removed]"
          },
          "metadata": {}
        }
      ]
    },
    {
      "cell_type": "markdown",
      "source": [
        "Pclass correlates with having been assigned a cabin."
      ],
      "metadata": {
        "id": "gYgCV70DBqvz"
      }
    },
    {
      "cell_type": "markdown",
      "source": [
        "**Ticket**\n",
        "\n",
        "We may be able to link passengers that are traveling together to the same ticket."
      ],
      "metadata": {
        "id": "Hm4qhYIDBuc6"
      }
    },
    {
      "cell_type": "code",
      "source": [
        "# compare unique tickets\n",
        "train_set = set(train_df['Ticket'].tolist())\n",
        "test_set = set(test_df['Ticket'].tolist())\n",
        "sorted_set = sorted(train_set.union(test_set))\n",
        "\n",
        "print(\"Number of unique tickets:\", len(sorted_set))\n",
        "print(\"Number of records:\", len(train_df) + len(test_df))"
      ],
      "metadata": {
        "colab": {
          "base_uri": "https://localhost:8080/"
        },
        "id": "hsNU4t_WBr6Z",
        "outputId": "5b1373d3-3e65-4aca-b8fc-4fe314fd0e33"
      },
      "execution_count": null,
      "outputs": [
        {
          "output_type": "stream",
          "name": "stdout",
          "text": [
            "Number of unique tickets: 929\n",
            "Number of records: 1309\n"
          ]
        }
      ]
    },
    {
      "cell_type": "markdown",
      "source": [
        "There are 929 tickets and 1309 records, therefore some passengers are traveling on the same ticket. We will group by Ticket later on to try and extract information.\n",
        "\n"
      ],
      "metadata": {
        "id": "IcySiqiyB2kY"
      }
    },
    {
      "cell_type": "markdown",
      "source": [
        "**Family Size**\n",
        "\n",
        "Family size is total amount of siblings, spouses, parents and children."
      ],
      "metadata": {
        "id": "ZRqkf7XwB6FW"
      }
    },
    {
      "cell_type": "code",
      "source": [
        "# family_size\n",
        "train_df['family_size'] = train_df['SibSp'] + train_df['Parch'] + 1\n",
        "test_df['family_size'] = test_df['SibSp'] + test_df['Parch'] + 1"
      ],
      "metadata": {
        "id": "0bKgdmSRB3Mr"
      },
      "execution_count": null,
      "outputs": []
    },
    {
      "cell_type": "markdown",
      "source": [
        "I want to see how family_size relates to survival."
      ],
      "metadata": {
        "id": "VBYGPPgHCEXW"
      }
    },
    {
      "cell_type": "code",
      "source": [
        "# survival and family_size\n",
        "sns.boxplot(x='Survived', y='family_size', data=train_df).set(title='Survived and family_size')\n",
        "plt.show()\n",
        "\n"
      ],
      "metadata": {
        "colab": {
          "base_uri": "https://localhost:8080/",
          "height": 472
        },
        "id": "M8ud4tUqCC-g",
        "outputId": "d0c07f6c-d6d9-43f9-8bec-79cd1d65a8ff"
      },
      "execution_count": null,
      "outputs": [
        {
          "output_type": "display_data",
          "data": {
            "text/plain": [
              "<Figure size 640x480 with 1 Axes>"
            ],
            "image/png": "[encoded data removed]"
          },
          "metadata": {}
        }
      ]
    },
    {
      "cell_type": "markdown",
      "source": [
        "It appears larger overall families survive more. This surprises me. Lets examine it further by treating it like a categorical variable."
      ],
      "metadata": {
        "id": "kk_FxqieCMP1"
      }
    },
    {
      "cell_type": "code",
      "source": [
        "# family_size and survived\n",
        "sns.catplot(x='family_size', hue=dependent_variable, data=train_df, kind='count').set(title='Survived and family_size')\n",
        "plt.show()"
      ],
      "metadata": {
        "colab": {
          "base_uri": "https://localhost:8080/",
          "height": 529
        },
        "id": "oN9B5KZSCMDU",
        "outputId": "b2171eb8-0c0c-4754-eeda-54f2e5b70808"
      },
      "execution_count": null,
      "outputs": [
        {
          "output_type": "display_data",
          "data": {
            "text/plain": [
              "<Figure size 572.111x500 with 1 Axes>"
            ],
            "image/png": "[encoded data removed]"
          },
          "metadata": {}
        }
      ]
    },
    {
      "cell_type": "markdown",
      "source": [
        "Solo travelers ang big families have a much different outcomes."
      ],
      "metadata": {
        "id": "JlZOqxmzCSpU"
      }
    },
    {
      "cell_type": "code",
      "source": [
        "# age_bucket\n",
        "bins = [0,1,4,20]\n",
        "labels = ['solo','normal_family', 'big_family']\n",
        "\n",
        "train_df['family_bucket'] = pd.cut(x=train_df['family_size'], bins=bins,labels=labels).astype('object')\n",
        "\n",
        "test_df['family_bucket'] = pd.cut(x=test_df['family_size'], bins=bins, labels=labels).astype('object')"
      ],
      "metadata": {
        "id": "67TQbMbSCTXC"
      },
      "execution_count": null,
      "outputs": []
    },
    {
      "cell_type": "code",
      "source": [
        "# family_size and survived\n",
        "sns.catplot(x='family_bucket', hue=dependent_variable, data=train_df, kind='count').set(title='Survived and family_bucket')\n",
        "plt.show()"
      ],
      "metadata": {
        "colab": {
          "base_uri": "https://localhost:8080/",
          "height": 529
        },
        "id": "b0ebNSYrCjQd",
        "outputId": "4eda6cbc-b1c8-405b-e4f5-6df0ea480ffc"
      },
      "execution_count": null,
      "outputs": [
        {
          "output_type": "display_data",
          "data": {
            "text/plain": [
              "<Figure size 572.111x500 with 1 Axes>"
            ],
            "image/png": "[encoded data removed]"
          },
          "metadata": {}
        }
      ]
    },
    {
      "cell_type": "markdown",
      "source": [
        "**Encode Catergorical**"
      ],
      "metadata": {
        "id": "4MqDI9UIuXxR"
      }
    },
    {
      "cell_type": "code",
      "source": [
        "train_df.info()"
      ],
      "metadata": {
        "colab": {
          "base_uri": "https://localhost:8080/"
        },
        "id": "155UE-amucG0",
        "outputId": "55142e28-200d-46b3-acc2-9a9ee2053db5"
      },
      "execution_count": null,
      "outputs": [
        {
          "output_type": "stream",
          "name": "stdout",
          "text": [
            "<class 'pandas.core.frame.DataFrame'>\n",
            "RangeIndex: 891 entries, 0 to 890\n",
            "Data columns (total 18 columns):\n",
            " #   Column         Non-Null Count  Dtype  \n",
            "---  ------         --------------  -----  \n",
            " 0   PassengerId    891 non-null    int64  \n",
            " 1   Survived       891 non-null    int64  \n",
            " 2   Pclass         891 non-null    int64  \n",
            " 3   Sex            891 non-null    object \n",
            " 4   Age            891 non-null    float64\n",
            " 5   SibSp          891 non-null    int64  \n",
            " 6   Parch          891 non-null    int64  \n",
            " 7   Ticket         891 non-null    object \n",
            " 8   Fare           891 non-null    float64\n",
            " 9   Cabin          891 non-null    object \n",
            " 10  Embarked       891 non-null    object \n",
            " 11  age_bucket     891 non-null    object \n",
            " 12  last_name      891 non-null    object \n",
            " 13  name_length    891 non-null    int64  \n",
            " 14  role           891 non-null    object \n",
            " 15  ship_location  891 non-null    object \n",
            " 16  family_size    891 non-null    int64  \n",
            " 17  family_bucket  891 non-null    object \n",
            "dtypes: float64(2), int64(7), object(9)\n",
            "memory usage: 125.4+ KB\n"
          ]
        }
      ]
    },
    {
      "cell_type": "code",
      "source": [
        "# function for re-use\n",
        "def group_by_shared_feature(train_df, test_df, col):\n",
        "    col_list = [col, 'Sex', 'age_bucket', 'role']\n",
        "\n",
        "    train_df = train_df[col_list].copy()\n",
        "    test_df = test_df[col_list].copy()\n",
        "\n",
        "    df = pd.concat([train_df, test_df])\n",
        "    df = pd.get_dummies(df, columns=col_list[1:])\n",
        "\n",
        "    agg_df = df.groupby(by=col).agg({\n",
        "        \"Sex_female\" : 'mean',\n",
        "        \"age_bucket_child\" : 'mean',\n",
        "        \"role_important\" : 'mean'\n",
        "    }).reset_index()\n",
        "\n",
        "    agg_df.columns = [col, f'{col}_female_perc', f'{col}_child_perc', f'{col}_role_important_perc']\n",
        "\n",
        "    return agg_df"
      ],
      "metadata": {
        "id": "jPZVFrPrujvi"
      },
      "execution_count": null,
      "outputs": []
    },
    {
      "cell_type": "markdown",
      "source": [
        "The idea here is that higher female, child, and important role percentages increases survivability for everyone in the group."
      ],
      "metadata": {
        "id": "qtmlTD64usO6"
      }
    },
    {
      "cell_type": "code",
      "source": [
        "# dummy and perc list\n",
        "survival_col_list = ['Pclass', 'Embarked', 'age_bucket', 'family_bucket', 'role', 'ship_location']\n",
        "dummy_col_list = ['Pclass', 'Sex', 'Embarked', 'age_bucket', 'family_bucket', 'role', 'ship_location']\n",
        "\n",
        "# convert to dummy percentages for the remainder\n",
        "for col in survival_col_list:\n",
        "    survival_col = f'{col}_survival'\n",
        "    train_agg_df = train_df.groupby(by=col).agg({dependent_variable : 'mean'}).reset_index()\n",
        "    train_agg_df.columns = [col, survival_col]\n",
        "\n",
        "    train_df = pd.merge(train_df, train_agg_df, how='left', on=col)\n",
        "    test_df = pd.merge(test_df, train_agg_df, how='left', on=col)\n",
        "\n",
        "    # fill na where match not found\n",
        "    #test_df[survival_col] = test_df[survival_col].fillna(train_age_mean)\n",
        "\n",
        "#     agg_df = group_by_shared_feature(train_df, test_df, col)\n",
        "\n",
        "#     train_df = pd.merge(train_df, agg_df, how='left', on=col)\n",
        "#     test_df = pd.merge(test_df, agg_df, how='left', on=col)\n",
        "\n",
        "# get dummies\n",
        "train_df = pd.get_dummies(train_df, columns=dummy_col_list)\n",
        "test_df = pd.get_dummies(test_df, columns=dummy_col_list)\n"
      ],
      "metadata": {
        "id": "cVkimn_yurjR"
      },
      "execution_count": null,
      "outputs": []
    },
    {
      "cell_type": "code",
      "source": [
        "assoc_col_list = ['last_name', 'Ticket', 'Cabin']\n",
        "\n",
        "# drop perc_col_list\n",
        "train_df.drop(assoc_col_list, inplace=True, axis=1)\n",
        "test_df.drop(assoc_col_list, inplace=True, axis=1)"
      ],
      "metadata": {
        "id": "U9kGihJmvAPr"
      },
      "execution_count": null,
      "outputs": []
    },
    {
      "cell_type": "code",
      "source": [
        "train_df.info()"
      ],
      "metadata": {
        "colab": {
          "base_uri": "https://localhost:8080/"
        },
        "id": "zPklHS2vvC-V",
        "outputId": "034c13de-f373-4578-8dd8-2e269b33ba90"
      },
      "execution_count": null,
      "outputs": [
        {
          "output_type": "stream",
          "name": "stdout",
          "text": [
            "<class 'pandas.core.frame.DataFrame'>\n",
            "Int64Index: 891 entries, 0 to 890\n",
            "Data columns (total 40 columns):\n",
            " #   Column                       Non-Null Count  Dtype  \n",
            "---  ------                       --------------  -----  \n",
            " 0   PassengerId                  891 non-null    int64  \n",
            " 1   Survived                     891 non-null    int64  \n",
            " 2   Age                          891 non-null    float64\n",
            " 3   SibSp                        891 non-null    int64  \n",
            " 4   Parch                        891 non-null    int64  \n",
            " 5   Fare                         891 non-null    float64\n",
            " 6   name_length                  891 non-null    int64  \n",
            " 7   family_size                  891 non-null    int64  \n",
            " 8   Pclass_survival              891 non-null    float64\n",
            " 9   Embarked_survival            891 non-null    float64\n",
            " 10  age_bucket_survival          891 non-null    float64\n",
            " 11  family_bucket_survival       891 non-null    float64\n",
            " 12  role_survival                891 non-null    float64\n",
            " 13  ship_location_survival       891 non-null    float64\n",
            " 14  Pclass_1                     891 non-null    uint8  \n",
            " 15  Pclass_2                     891 non-null    uint8  \n",
            " 16  Pclass_3                     891 non-null    uint8  \n",
            " 17  Sex_female                   891 non-null    uint8  \n",
            " 18  Sex_male                     891 non-null    uint8  \n",
            " 19  Embarked_C                   891 non-null    uint8  \n",
            " 20  Embarked_Q                   891 non-null    uint8  \n",
            " 21  Embarked_S                   891 non-null    uint8  \n",
            " 22  age_bucket_adult             891 non-null    uint8  \n",
            " 23  age_bucket_child             891 non-null    uint8  \n",
            " 24  age_bucket_elderly           891 non-null    uint8  \n",
            " 25  family_bucket_big_family     891 non-null    uint8  \n",
            " 26  family_bucket_normal_family  891 non-null    uint8  \n",
            " 27  family_bucket_solo           891 non-null    uint8  \n",
            " 28  role_average                 891 non-null    uint8  \n",
            " 29  role_important               891 non-null    uint8  \n",
            " 30  role_officer                 891 non-null    uint8  \n",
            " 31  ship_location_A              891 non-null    uint8  \n",
            " 32  ship_location_B              891 non-null    uint8  \n",
            " 33  ship_location_C              891 non-null    uint8  \n",
            " 34  ship_location_D              891 non-null    uint8  \n",
            " 35  ship_location_E              891 non-null    uint8  \n",
            " 36  ship_location_F              891 non-null    uint8  \n",
            " 37  ship_location_G              891 non-null    uint8  \n",
            " 38  ship_location_N              891 non-null    uint8  \n",
            " 39  ship_location_T              891 non-null    uint8  \n",
            "dtypes: float64(8), int64(6), uint8(26)\n",
            "memory usage: 127.0 KB\n"
          ]
        }
      ]
    },
    {
      "cell_type": "markdown",
      "source": [
        "Transform Numerical"
      ],
      "metadata": {
        "id": "g0Z0wDXawECf"
      }
    },
    {
      "cell_type": "code",
      "source": [
        "# Fare\n",
        "sns.boxplot(x='Fare', data=train_df).set(title='Fare')\n",
        "plt.show()"
      ],
      "metadata": {
        "colab": {
          "base_uri": "https://localhost:8080/",
          "height": 472
        },
        "id": "55OZaoG6wJ_s",
        "outputId": "c9993692-ea7c-4246-e933-ba017a0c946c"
      },
      "execution_count": null,
      "outputs": [
        {
          "output_type": "display_data",
          "data": {
            "text/plain": [
              "<Figure size 640x480 with 1 Axes>"
            ],
            "image/png": "[encoded data removed]"
          },
          "metadata": {}
        }
      ]
    },
    {
      "cell_type": "code",
      "source": [
        "# Age\n",
        "sns.boxplot(x='Age', data=train_df).set(title='Age')\n",
        "plt.show()"
      ],
      "metadata": {
        "colab": {
          "base_uri": "https://localhost:8080/",
          "height": 472
        },
        "id": "guzYrOFlwOU3",
        "outputId": "fc689fa7-fdd9-4fea-b190-866f8266169d"
      },
      "execution_count": null,
      "outputs": [
        {
          "output_type": "display_data",
          "data": {
            "text/plain": [
              "<Figure size 640x480 with 1 Axes>"
            ],
            "image/png": "[encoded data removed]"
          },
          "metadata": {}
        }
      ]
    },
    {
      "cell_type": "markdown",
      "source": [
        "**Fare is right-skewed. I will log transform.**"
      ],
      "metadata": {
        "id": "0_RxPgqFwQdD"
      }
    },
    {
      "cell_type": "code",
      "source": [
        "# log transform Fare\n",
        "train_df['fare_log'] = np.log(train_df['Fare']+1)\n",
        "test_df['fare_log'] = np.log(test_df['Fare']+1)"
      ],
      "metadata": {
        "id": "onmJqqdCwSVI"
      },
      "execution_count": null,
      "outputs": []
    },
    {
      "cell_type": "markdown",
      "source": [
        "**Column Confirmation**"
      ],
      "metadata": {
        "id": "LSf748JuwXtO"
      }
    },
    {
      "cell_type": "code",
      "source": [
        "# confirm that both df have the same dimensions at this point\n",
        "train_set = set(train_df.columns)\n",
        "test_set = set(test_df.columns)\n",
        "\n",
        "test_train_diff_set = test_set - train_set\n",
        "train_test_diff_set = train_set - test_set\n",
        "train_test_union_set = train_set.intersection(test_set)\n",
        "print(f'Columns in test not in train: {test_train_diff_set}')\n",
        "print(f'Columns in train not in test: {train_test_diff_set}')"
      ],
      "metadata": {
        "colab": {
          "base_uri": "https://localhost:8080/"
        },
        "id": "AZT-owEOwTnv",
        "outputId": "d198837d-a5c9-4b83-a9ad-5309bc718d71"
      },
      "execution_count": null,
      "outputs": [
        {
          "output_type": "stream",
          "name": "stdout",
          "text": [
            "Columns in test not in train: set()\n",
            "Columns in train not in test: {'Survived', 'ship_location_T'}\n"
          ]
        }
      ]
    },
    {
      "cell_type": "code",
      "source": [
        "# make sure there are no differences in columns\n",
        "train_col_list = list(train_test_union_set)\n",
        "train_col_list.append(dependent_variable)\n",
        "\n",
        "test_col_list = list(train_test_union_set)\n",
        "\n",
        "train_df = train_df[train_col_list].copy()\n",
        "test_df = test_df[test_col_list].copy()"
      ],
      "metadata": {
        "id": "G4vvfF5GwdhB"
      },
      "execution_count": null,
      "outputs": []
    },
    {
      "cell_type": "code",
      "source": [
        "# confirm that both df have the same dimensions at this point\n",
        "train_set = set(train_df.columns)\n",
        "test_set = set(test_df.columns)\n",
        "\n",
        "test_train_diff_set = test_set - train_set\n",
        "train_test_diff_set = train_set - test_set\n",
        "train_test_union_set = train_set.intersection(test_set)\n",
        "print(f'Columns in test not in train: {test_train_diff_set}')\n",
        "print(f'Columns in train not in test: {train_test_diff_set}')"
      ],
      "metadata": {
        "colab": {
          "base_uri": "https://localhost:8080/"
        },
        "id": "JbEQF0J4wgi_",
        "outputId": "3e2aeb30-2310-401e-a97a-1ab48ed59f46"
      },
      "execution_count": null,
      "outputs": [
        {
          "output_type": "stream",
          "name": "stdout",
          "text": [
            "Columns in test not in train: set()\n",
            "Columns in train not in test: {'Survived'}\n"
          ]
        }
      ]
    },
    {
      "cell_type": "markdown",
      "source": [
        "\n",
        "**Modeling**"
      ],
      "metadata": {
        "id": "EtCW17bgwjNA"
      }
    },
    {
      "cell_type": "code",
      "source": [
        "# imports\n",
        "from sklearn.model_selection import GridSearchCV\n",
        "from sklearn.preprocessing import MinMaxScaler, StandardScaler\n",
        "from sklearn.ensemble import RandomForestClassifier\n",
        "from xgboost import XGBClassifier\n",
        "from lightgbm import LGBMClassifier\n",
        "from catboost import CatBoostClassifier"
      ],
      "metadata": {
        "id": "-tRIQqqLwmEL"
      },
      "execution_count": null,
      "outputs": []
    },
    {
      "cell_type": "code",
      "source": [
        "# split train into x and y\n",
        "y_train = train_df[dependent_variable].copy()\n",
        "x_train = train_df.drop(columns=[id_variable,dependent_variable], axis=1).copy()"
      ],
      "metadata": {
        "id": "pvsp_KhsxSAX"
      },
      "execution_count": null,
      "outputs": []
    },
    {
      "cell_type": "code",
      "source": [
        "# scale columns\n",
        "scale_col_list = x_train.columns\n",
        "\n",
        "train_scaler = StandardScaler().fit(x_train[scale_col_list].values)\n",
        "\n",
        "x_train = pd.DataFrame(train_scaler.fit_transform(x_train[scale_col_list].values), columns=scale_col_list, index=x_train.index)"
      ],
      "metadata": {
        "id": "5XWPmyVHxT1l"
      },
      "execution_count": null,
      "outputs": []
    },
    {
      "cell_type": "code",
      "source": [
        "# correlation graph with survival\n",
        "correlation = train_df.iloc[:, 1:].corr()[dependent_variable].sort_values(ascending=False)\n",
        "\n",
        "correlation[1:].plot(kind='bar', figsize=(12,6), title='Correlation with Survival')\n",
        "plt.show()"
      ],
      "metadata": {
        "colab": {
          "base_uri": "https://localhost:8080/",
          "height": 733
        },
        "id": "goP9Ej1FxXJI",
        "outputId": "ed761ecd-e360-4ed8-f2eb-d2fcba0ff957"
      },
      "execution_count": null,
      "outputs": [
        {
          "output_type": "display_data",
          "data": {
            "text/plain": [
              "<Figure size 1200x600 with 1 Axes>"
            ],
            "image/png": "[encoded data removed]"
          },
          "metadata": {}
        }
      ]
    },
    {
      "cell_type": "code",
      "source": [
        "# shared parameters\n",
        "cv = 10\n",
        "\n",
        "random_state=42\n",
        "n_jobs = -1\n",
        "\n",
        "base_params = {\n",
        "    'random_state': random_state,\n",
        "    'n_jobs': n_jobs\n",
        "}\n"
      ],
      "metadata": {
        "id": "LGwA7ys2xdbI"
      },
      "execution_count": null,
      "outputs": []
    },
    {
      "cell_type": "code",
      "source": [
        "def grid_search_model(x_train, y_train, model, param_grid, cv, n_jobs):\n",
        "    # grid search CV to pick features\n",
        "    print(\"Searching for best hyperparameters\")\n",
        "    grid_search = GridSearchCV(\n",
        "        model,\n",
        "        param_grid,\n",
        "        cv=cv,\n",
        "        n_jobs=n_jobs,\n",
        "        scoring='accuracy'\n",
        "    )\n",
        "\n",
        "    grid_search.fit(x_train.values, y_train.values)\n",
        "\n",
        "    best_hyperparameters = grid_search.best_params_\n",
        "    best_score = grid_search.best_score_\n",
        "\n",
        "    print(\"Best hyperparameters:\", best_hyperparameters)\n",
        "    print(\"Best mean cross-validated score:\", best_score)\n",
        "\n",
        "    return best_hyperparameters"
      ],
      "metadata": {
        "id": "QnT_X4DSxi6t"
      },
      "execution_count": null,
      "outputs": []
    },
    {
      "cell_type": "markdown",
      "source": [
        "**Random Forest Classifie**r"
      ],
      "metadata": {
        "id": "mNjwnw-Vxm-O"
      }
    },
    {
      "cell_type": "code",
      "source": [
        "# random forest classifier\n",
        "print(\"Building random forest model\")\n",
        "model = RandomForestClassifier().set_params(**base_params)\n",
        "\n",
        "param_grid = {\n",
        "    'n_estimators': [1000],\n",
        "    'max_depth': [10],\n",
        "    'min_samples_split': [10],\n",
        "    'min_samples_leaf': [1]\n",
        "}\n",
        "\n",
        "rf_best_hyperparameters = grid_search_model(x_train, y_train, model, param_grid, cv, n_jobs)\n",
        "\n",
        "# fit model\n",
        "rf_model = RandomForestClassifier(**{**base_params,**rf_best_hyperparameters})\n",
        "rf_model.fit(x_train.values, y_train.values)"
      ],
      "metadata": {
        "colab": {
          "base_uri": "https://localhost:8080/",
          "height": 165
        },
        "id": "QxtLbW6Nxkrp",
        "outputId": "d88fce83-d717-403d-9ac7-e216b9248682"
      },
      "execution_count": null,
      "outputs": [
        {
          "output_type": "stream",
          "name": "stdout",
          "text": [
            "Building random forest model\n",
            "Searching for best hyperparameters\n",
            "Best hyperparameters: {'max_depth': 10, 'min_samples_leaf': 1, 'min_samples_split': 10, 'n_estimators': 1000}\n",
            "Best mean cross-validated score: 0.833932584269663\n"
          ]
        },
        {
          "output_type": "execute_result",
          "data": {
            "text/plain": [
              "RandomForestClassifier(max_depth=10, min_samples_split=10, n_estimators=1000,\n",
              "                       n_jobs=-1, random_state=42)"
            ],
            "text/html": [
              "<style>#sk-container-id-1 {color: black;background-color: white;}#sk-container-id-1 pre{padding: 0;}#sk-container-id-1 div.sk-toggleable {background-color: white;}#sk-container-id-1 label.sk-toggleable__label {cursor: pointer;display: block;width: 100%;margin-bottom: 0;padding: 0.3em;box-sizing: border-box;text-align: center;}#sk-container-id-1 label.sk-toggleable__label-arrow:before {content: \"▸\";float: left;margin-right: 0.25em;color: #696969;}#sk-container-id-1 label.sk-toggleable__label-arrow:hover:before {color: black;}#sk-container-id-1 div.sk-estimator:hover label.sk-toggleable__label-arrow:before {color: black;}#sk-container-id-1 div.sk-toggleable__content {max-height: 0;max-width: 0;overflow: hidden;text-align: left;background-color: #f0f8ff;}#sk-container-id-1 div.sk-toggleable__content pre {margin: 0.2em;color: black;border-radius: 0.25em;background-color: #f0f8ff;}#sk-container-id-1 input.sk-toggleable__control:checked~div.sk-toggleable__content {max-height: 200px;max-width: 100%;overflow: auto;}#sk-container-id-1 input.sk-toggleable__control:checked~label.sk-toggleable__label-arrow:before {content: \"▾\";}#sk-container-id-1 div.sk-estimator input.sk-toggleable__control:checked~label.sk-toggleable__label {background-color: #d4ebff;}#sk-container-id-1 div.sk-label input.sk-toggleable__control:checked~label.sk-toggleable__label {background-color: #d4ebff;}#sk-container-id-1 input.sk-hidden--visually {border: 0;clip: rect(1px 1px 1px 1px);clip: rect(1px, 1px, 1px, 1px);height: 1px;margin: -1px;overflow: hidden;padding: 0;position: absolute;width: 1px;}#sk-container-id-1 div.sk-estimator {font-family: monospace;background-color: #f0f8ff;border: 1px dotted black;border-radius: 0.25em;box-sizing: border-box;margin-bottom: 0.5em;}#sk-container-id-1 div.sk-estimator:hover {background-color: #d4ebff;}#sk-container-id-1 div.sk-parallel-item::after {content: \"\";width: 100%;border-bottom: 1px solid gray;flex-grow: 1;}#sk-container-id-1 div.sk-label:hover label.sk-toggleable__label {background-color: #d4ebff;}#sk-container-id-1 div.sk-serial::before {content: \"\";position: absolute;border-left: 1px solid gray;box-sizing: border-box;top: 0;bottom: 0;left: 50%;z-index: 0;}#sk-container-id-1 div.sk-serial {display: flex;flex-direction: column;align-items: center;background-color: white;padding-right: 0.2em;padding-left: 0.2em;position: relative;}#sk-container-id-1 div.sk-item {position: relative;z-index: 1;}#sk-container-id-1 div.sk-parallel {display: flex;align-items: stretch;justify-content: center;background-color: white;position: relative;}#sk-container-id-1 div.sk-item::before, #sk-container-id-1 div.sk-parallel-item::before {content: \"\";position: absolute;border-left: 1px solid gray;box-sizing: border-box;top: 0;bottom: 0;left: 50%;z-index: -1;}#sk-container-id-1 div.sk-parallel-item {display: flex;flex-direction: column;z-index: 1;position: relative;background-color: white;}#sk-container-id-1 div.sk-parallel-item:first-child::after {align-self: flex-end;width: 50%;}#sk-container-id-1 div.sk-parallel-item:last-child::after {align-self: flex-start;width: 50%;}#sk-container-id-1 div.sk-parallel-item:only-child::after {width: 0;}#sk-container-id-1 div.sk-dashed-wrapped {border: 1px dashed gray;margin: 0 0.4em 0.5em 0.4em;box-sizing: border-box;padding-bottom: 0.4em;background-color: white;}#sk-container-id-1 div.sk-label label {font-family: monospace;font-weight: bold;display: inline-block;line-height: 1.2em;}#sk-container-id-1 div.sk-label-container {text-align: center;}#sk-container-id-1 div.sk-container {/* jupyter's `normalize.less` sets `[hidden] { display: none; }` but bootstrap.min.css set `[hidden] { display: none !important; }` so we also need the `!important` here to be able to override the default hidden behavior on the sphinx rendered scikit-learn.org. See: https://github.com/scikit-learn/scikit-learn/issues/21755 */display: inline-block !important;position: relative;}#sk-container-id-1 div.sk-text-repr-fallback {display: none;}</style><div id=\"sk-container-id-1\" class=\"sk-top-container\"><div class=\"sk-text-repr-fallback\"><pre>RandomForestClassifier(max_depth=10, min_samples_split=10, n_estimators=1000,\n",
              "                       n_jobs=-1, random_state=42)</pre><b>In a Jupyter environment, please rerun this cell to show the HTML representation or trust the notebook. <br />On GitHub, the HTML representation is unable to render, please try loading this page with nbviewer.org.</b></div><div class=\"sk-container\" hidden><div class=\"sk-item\"><div class=\"sk-estimator sk-toggleable\"><input class=\"sk-toggleable__control sk-hidden--visually\" id=\"sk-estimator-id-1\" type=\"checkbox\" checked><label for=\"sk-estimator-id-1\" class=\"sk-toggleable__label sk-toggleable__label-arrow\">RandomForestClassifier</label><div class=\"sk-toggleable__content\"><pre>RandomForestClassifier(max_depth=10, min_samples_split=10, n_estimators=1000,\n",
              "                       n_jobs=-1, random_state=42)</pre></div></div></div></div></div>"
            ]
          },
          "metadata": {},
          "execution_count": 71
        }
      ]
    }
  ]
}